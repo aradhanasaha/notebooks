{
 "cells": [
  {
   "cell_type": "code",
   "execution_count": 1,
   "id": "57ce4fb3",
   "metadata": {
    "_cell_guid": "b1076dfc-b9ad-4769-8c92-a6c4dae69d19",
    "_uuid": "8f2839f25d086af736a60e9eeb907d3b93b6e0e5",
    "execution": {
     "iopub.execute_input": "2023-10-07T10:21:47.364975Z",
     "iopub.status.busy": "2023-10-07T10:21:47.364565Z",
     "iopub.status.idle": "2023-10-07T10:21:48.128012Z",
     "shell.execute_reply": "2023-10-07T10:21:48.126788Z"
    },
    "papermill": {
     "duration": 0.775576,
     "end_time": "2023-10-07T10:21:48.130470",
     "exception": false,
     "start_time": "2023-10-07T10:21:47.354894",
     "status": "completed"
    },
    "tags": []
   },
   "outputs": [
    {
     "name": "stdout",
     "output_type": "stream",
     "text": [
      "/kaggle/input/american-companies-bankruptcy-prediction-dataset/american_bankruptcy.csv\n"
     ]
    }
   ],
   "source": [
    "# This Python 3 environment comes with many helpful analytics libraries installed\n",
    "# It is defined by the kaggle/python Docker image: https://github.com/kaggle/docker-python\n",
    "# For example, here's several helpful packages to load\n",
    "\n",
    "import numpy as np # linear algebra\n",
    "import pandas as pd # data processing, CSV file I/O (e.g. pd.read_csv)\n",
    "\n",
    "# Input data files are available in the read-only \"../input/\" directory\n",
    "# For example, running this (by clicking run or pressing Shift+Enter) will list all files under the input directory\n",
    "\n",
    "import os\n",
    "for dirname, _, filenames in os.walk('/kaggle/input'):\n",
    "    for filename in filenames:\n",
    "        print(os.path.join(dirname, filename))\n",
    "\n",
    "# You can write up to 20GB to the current directory (/kaggle/working/) that gets preserved as output when you create a version using \"Save & Run All\" \n",
    "# You can also write temporary files to /kaggle/temp/, but they won't be saved outside of the current session"
   ]
  },
  {
   "cell_type": "code",
   "execution_count": 2,
   "id": "91e9f31a",
   "metadata": {
    "execution": {
     "iopub.execute_input": "2023-10-07T10:21:48.148081Z",
     "iopub.status.busy": "2023-10-07T10:21:48.147598Z",
     "iopub.status.idle": "2023-10-07T10:21:50.480658Z",
     "shell.execute_reply": "2023-10-07T10:21:50.479642Z"
    },
    "papermill": {
     "duration": 2.344374,
     "end_time": "2023-10-07T10:21:50.483018",
     "exception": false,
     "start_time": "2023-10-07T10:21:48.138644",
     "status": "completed"
    },
    "tags": []
   },
   "outputs": [],
   "source": [
    "import ipywidgets as widgets\n",
    "import pandas as pd\n",
    "import matplotlib.pyplot as plt\n",
    "import seaborn as sns\n",
    "from imblearn.over_sampling import RandomOverSampler\n",
    "from imblearn.under_sampling import RandomUnderSampler\n",
    "from sklearn.tree import DecisionTreeClassifier\n",
    "from ipywidgets import interact\n",
    "from sklearn.ensemble import GradientBoostingClassifier\n",
    "from sklearn.impute import SimpleImputer\n",
    "from sklearn.metrics import (\n",
    "    ConfusionMatrixDisplay,\n",
    "    classification_report,\n",
    "    confusion_matrix,\n",
    ")\n",
    "from sklearn.model_selection import GridSearchCV, train_test_split\n",
    "from sklearn.pipeline import make_pipeline\n"
   ]
  },
  {
   "cell_type": "code",
   "execution_count": 3,
   "id": "503b78ba",
   "metadata": {
    "execution": {
     "iopub.execute_input": "2023-10-07T10:21:50.500879Z",
     "iopub.status.busy": "2023-10-07T10:21:50.499688Z",
     "iopub.status.idle": "2023-10-07T10:21:50.887750Z",
     "shell.execute_reply": "2023-10-07T10:21:50.886643Z"
    },
    "papermill": {
     "duration": 0.399654,
     "end_time": "2023-10-07T10:21:50.890436",
     "exception": false,
     "start_time": "2023-10-07T10:21:50.490782",
     "status": "completed"
    },
    "tags": []
   },
   "outputs": [],
   "source": [
    "df=pd.read_csv('/kaggle/input/american-companies-bankruptcy-prediction-dataset/american_bankruptcy.csv')"
   ]
  },
  {
   "cell_type": "code",
   "execution_count": 4,
   "id": "3c4f1160",
   "metadata": {
    "execution": {
     "iopub.execute_input": "2023-10-07T10:21:50.908038Z",
     "iopub.status.busy": "2023-10-07T10:21:50.907042Z",
     "iopub.status.idle": "2023-10-07T10:21:50.931955Z",
     "shell.execute_reply": "2023-10-07T10:21:50.930548Z"
    },
    "papermill": {
     "duration": 0.036572,
     "end_time": "2023-10-07T10:21:50.934820",
     "exception": false,
     "start_time": "2023-10-07T10:21:50.898248",
     "status": "completed"
    },
    "tags": []
   },
   "outputs": [],
   "source": [
    "df=df.set_index('year')"
   ]
  },
  {
   "cell_type": "code",
   "execution_count": 5,
   "id": "61a659c1",
   "metadata": {
    "execution": {
     "iopub.execute_input": "2023-10-07T10:21:50.952803Z",
     "iopub.status.busy": "2023-10-07T10:21:50.952013Z",
     "iopub.status.idle": "2023-10-07T10:21:50.960517Z",
     "shell.execute_reply": "2023-10-07T10:21:50.959312Z"
    },
    "papermill": {
     "duration": 0.020227,
     "end_time": "2023-10-07T10:21:50.962884",
     "exception": false,
     "start_time": "2023-10-07T10:21:50.942657",
     "status": "completed"
    },
    "tags": []
   },
   "outputs": [
    {
     "data": {
      "text/plain": [
       "Index(['company_name', 'status_label', 'X1', 'X2', 'X3', 'X4', 'X5', 'X6',\n",
       "       'X7', 'X8', 'X9', 'X10', 'X11', 'X12', 'X13', 'X14', 'X15', 'X16',\n",
       "       'X17', 'X18'],\n",
       "      dtype='object')"
      ]
     },
     "execution_count": 5,
     "metadata": {},
     "output_type": "execute_result"
    }
   ],
   "source": [
    "df.columns"
   ]
  },
  {
   "cell_type": "code",
   "execution_count": 6,
   "id": "a447a955",
   "metadata": {
    "execution": {
     "iopub.execute_input": "2023-10-07T10:21:50.981130Z",
     "iopub.status.busy": "2023-10-07T10:21:50.980099Z",
     "iopub.status.idle": "2023-10-07T10:21:50.992719Z",
     "shell.execute_reply": "2023-10-07T10:21:50.991721Z"
    },
    "papermill": {
     "duration": 0.024347,
     "end_time": "2023-10-07T10:21:50.995130",
     "exception": false,
     "start_time": "2023-10-07T10:21:50.970783",
     "status": "completed"
    },
    "tags": []
   },
   "outputs": [],
   "source": [
    "df.drop(columns='company_name', inplace=True)"
   ]
  },
  {
   "cell_type": "code",
   "execution_count": 7,
   "id": "023057bb",
   "metadata": {
    "execution": {
     "iopub.execute_input": "2023-10-07T10:21:51.013394Z",
     "iopub.status.busy": "2023-10-07T10:21:51.013009Z",
     "iopub.status.idle": "2023-10-07T10:21:51.045167Z",
     "shell.execute_reply": "2023-10-07T10:21:51.044008Z"
    },
    "papermill": {
     "duration": 0.043896,
     "end_time": "2023-10-07T10:21:51.047409",
     "exception": false,
     "start_time": "2023-10-07T10:21:51.003513",
     "status": "completed"
    },
    "tags": []
   },
   "outputs": [
    {
     "data": {
      "text/html": [
       "<div>\n",
       "<style scoped>\n",
       "    .dataframe tbody tr th:only-of-type {\n",
       "        vertical-align: middle;\n",
       "    }\n",
       "\n",
       "    .dataframe tbody tr th {\n",
       "        vertical-align: top;\n",
       "    }\n",
       "\n",
       "    .dataframe thead th {\n",
       "        text-align: right;\n",
       "    }\n",
       "</style>\n",
       "<table border=\"1\" class=\"dataframe\">\n",
       "  <thead>\n",
       "    <tr style=\"text-align: right;\">\n",
       "      <th></th>\n",
       "      <th>status_label</th>\n",
       "      <th>X1</th>\n",
       "      <th>X2</th>\n",
       "      <th>X3</th>\n",
       "      <th>X4</th>\n",
       "      <th>X5</th>\n",
       "      <th>X6</th>\n",
       "      <th>X7</th>\n",
       "      <th>X8</th>\n",
       "      <th>X9</th>\n",
       "      <th>X10</th>\n",
       "      <th>X11</th>\n",
       "      <th>X12</th>\n",
       "      <th>X13</th>\n",
       "      <th>X14</th>\n",
       "      <th>X15</th>\n",
       "      <th>X16</th>\n",
       "      <th>X17</th>\n",
       "      <th>X18</th>\n",
       "    </tr>\n",
       "    <tr>\n",
       "      <th>year</th>\n",
       "      <th></th>\n",
       "      <th></th>\n",
       "      <th></th>\n",
       "      <th></th>\n",
       "      <th></th>\n",
       "      <th></th>\n",
       "      <th></th>\n",
       "      <th></th>\n",
       "      <th></th>\n",
       "      <th></th>\n",
       "      <th></th>\n",
       "      <th></th>\n",
       "      <th></th>\n",
       "      <th></th>\n",
       "      <th></th>\n",
       "      <th></th>\n",
       "      <th></th>\n",
       "      <th></th>\n",
       "      <th></th>\n",
       "    </tr>\n",
       "  </thead>\n",
       "  <tbody>\n",
       "    <tr>\n",
       "      <th>1999</th>\n",
       "      <td>alive</td>\n",
       "      <td>511.267</td>\n",
       "      <td>833.107</td>\n",
       "      <td>18.373</td>\n",
       "      <td>89.031</td>\n",
       "      <td>336.018</td>\n",
       "      <td>35.163</td>\n",
       "      <td>128.348</td>\n",
       "      <td>372.7519</td>\n",
       "      <td>1024.333</td>\n",
       "      <td>740.998</td>\n",
       "      <td>180.447</td>\n",
       "      <td>70.658</td>\n",
       "      <td>191.226</td>\n",
       "      <td>163.816</td>\n",
       "      <td>201.026</td>\n",
       "      <td>1024.333</td>\n",
       "      <td>401.483</td>\n",
       "      <td>935.302</td>\n",
       "    </tr>\n",
       "    <tr>\n",
       "      <th>2000</th>\n",
       "      <td>alive</td>\n",
       "      <td>485.856</td>\n",
       "      <td>713.811</td>\n",
       "      <td>18.577</td>\n",
       "      <td>64.367</td>\n",
       "      <td>320.590</td>\n",
       "      <td>18.531</td>\n",
       "      <td>115.187</td>\n",
       "      <td>377.1180</td>\n",
       "      <td>874.255</td>\n",
       "      <td>701.854</td>\n",
       "      <td>179.987</td>\n",
       "      <td>45.790</td>\n",
       "      <td>160.444</td>\n",
       "      <td>125.392</td>\n",
       "      <td>204.065</td>\n",
       "      <td>874.255</td>\n",
       "      <td>361.642</td>\n",
       "      <td>809.888</td>\n",
       "    </tr>\n",
       "    <tr>\n",
       "      <th>2001</th>\n",
       "      <td>alive</td>\n",
       "      <td>436.656</td>\n",
       "      <td>526.477</td>\n",
       "      <td>22.496</td>\n",
       "      <td>27.207</td>\n",
       "      <td>286.588</td>\n",
       "      <td>-58.939</td>\n",
       "      <td>77.528</td>\n",
       "      <td>364.5928</td>\n",
       "      <td>638.721</td>\n",
       "      <td>710.199</td>\n",
       "      <td>217.699</td>\n",
       "      <td>4.711</td>\n",
       "      <td>112.244</td>\n",
       "      <td>150.464</td>\n",
       "      <td>139.603</td>\n",
       "      <td>638.721</td>\n",
       "      <td>399.964</td>\n",
       "      <td>611.514</td>\n",
       "    </tr>\n",
       "    <tr>\n",
       "      <th>2002</th>\n",
       "      <td>alive</td>\n",
       "      <td>396.412</td>\n",
       "      <td>496.747</td>\n",
       "      <td>27.172</td>\n",
       "      <td>30.745</td>\n",
       "      <td>259.954</td>\n",
       "      <td>-12.410</td>\n",
       "      <td>66.322</td>\n",
       "      <td>143.3295</td>\n",
       "      <td>606.337</td>\n",
       "      <td>686.621</td>\n",
       "      <td>164.658</td>\n",
       "      <td>3.573</td>\n",
       "      <td>109.590</td>\n",
       "      <td>203.575</td>\n",
       "      <td>124.106</td>\n",
       "      <td>606.337</td>\n",
       "      <td>391.633</td>\n",
       "      <td>575.592</td>\n",
       "    </tr>\n",
       "    <tr>\n",
       "      <th>2003</th>\n",
       "      <td>alive</td>\n",
       "      <td>432.204</td>\n",
       "      <td>523.302</td>\n",
       "      <td>26.680</td>\n",
       "      <td>47.491</td>\n",
       "      <td>247.245</td>\n",
       "      <td>3.504</td>\n",
       "      <td>104.661</td>\n",
       "      <td>308.9071</td>\n",
       "      <td>651.958</td>\n",
       "      <td>709.292</td>\n",
       "      <td>248.666</td>\n",
       "      <td>20.811</td>\n",
       "      <td>128.656</td>\n",
       "      <td>131.261</td>\n",
       "      <td>131.884</td>\n",
       "      <td>651.958</td>\n",
       "      <td>407.608</td>\n",
       "      <td>604.467</td>\n",
       "    </tr>\n",
       "    <tr>\n",
       "      <th>...</th>\n",
       "      <td>...</td>\n",
       "      <td>...</td>\n",
       "      <td>...</td>\n",
       "      <td>...</td>\n",
       "      <td>...</td>\n",
       "      <td>...</td>\n",
       "      <td>...</td>\n",
       "      <td>...</td>\n",
       "      <td>...</td>\n",
       "      <td>...</td>\n",
       "      <td>...</td>\n",
       "      <td>...</td>\n",
       "      <td>...</td>\n",
       "      <td>...</td>\n",
       "      <td>...</td>\n",
       "      <td>...</td>\n",
       "      <td>...</td>\n",
       "      <td>...</td>\n",
       "      <td>...</td>\n",
       "    </tr>\n",
       "    <tr>\n",
       "      <th>2014</th>\n",
       "      <td>alive</td>\n",
       "      <td>233.211</td>\n",
       "      <td>43.338</td>\n",
       "      <td>14.094</td>\n",
       "      <td>45.615</td>\n",
       "      <td>3.376</td>\n",
       "      <td>25.261</td>\n",
       "      <td>22.846</td>\n",
       "      <td>756.4827</td>\n",
       "      <td>104.223</td>\n",
       "      <td>1099.101</td>\n",
       "      <td>184.666</td>\n",
       "      <td>31.521</td>\n",
       "      <td>60.885</td>\n",
       "      <td>28.197</td>\n",
       "      <td>28.095</td>\n",
       "      <td>104.223</td>\n",
       "      <td>225.887</td>\n",
       "      <td>58.608</td>\n",
       "    </tr>\n",
       "    <tr>\n",
       "      <th>2015</th>\n",
       "      <td>alive</td>\n",
       "      <td>105.559</td>\n",
       "      <td>59.184</td>\n",
       "      <td>42.592</td>\n",
       "      <td>202.133</td>\n",
       "      <td>2.288</td>\n",
       "      <td>129.688</td>\n",
       "      <td>54.611</td>\n",
       "      <td>527.5750</td>\n",
       "      <td>291.153</td>\n",
       "      <td>1865.926</td>\n",
       "      <td>770.103</td>\n",
       "      <td>159.541</td>\n",
       "      <td>231.969</td>\n",
       "      <td>88.128</td>\n",
       "      <td>157.783</td>\n",
       "      <td>291.153</td>\n",
       "      <td>880.327</td>\n",
       "      <td>89.020</td>\n",
       "    </tr>\n",
       "    <tr>\n",
       "      <th>2016</th>\n",
       "      <td>alive</td>\n",
       "      <td>63.971</td>\n",
       "      <td>69.074</td>\n",
       "      <td>65.057</td>\n",
       "      <td>79.051</td>\n",
       "      <td>2.581</td>\n",
       "      <td>-1.442</td>\n",
       "      <td>42.467</td>\n",
       "      <td>578.8868</td>\n",
       "      <td>169.858</td>\n",
       "      <td>1746.235</td>\n",
       "      <td>683.985</td>\n",
       "      <td>13.994</td>\n",
       "      <td>100.784</td>\n",
       "      <td>85.765</td>\n",
       "      <td>156.341</td>\n",
       "      <td>169.858</td>\n",
       "      <td>770.233</td>\n",
       "      <td>90.807</td>\n",
       "    </tr>\n",
       "    <tr>\n",
       "      <th>2017</th>\n",
       "      <td>alive</td>\n",
       "      <td>135.207</td>\n",
       "      <td>66.527</td>\n",
       "      <td>65.330</td>\n",
       "      <td>69.171</td>\n",
       "      <td>2.013</td>\n",
       "      <td>-20.401</td>\n",
       "      <td>27.217</td>\n",
       "      <td>412.6241</td>\n",
       "      <td>161.884</td>\n",
       "      <td>1736.110</td>\n",
       "      <td>694.035</td>\n",
       "      <td>3.841</td>\n",
       "      <td>95.357</td>\n",
       "      <td>82.010</td>\n",
       "      <td>135.941</td>\n",
       "      <td>161.884</td>\n",
       "      <td>776.697</td>\n",
       "      <td>92.713</td>\n",
       "    </tr>\n",
       "    <tr>\n",
       "      <th>2018</th>\n",
       "      <td>alive</td>\n",
       "      <td>82.589</td>\n",
       "      <td>68.817</td>\n",
       "      <td>65.201</td>\n",
       "      <td>67.262</td>\n",
       "      <td>2.112</td>\n",
       "      <td>-50.946</td>\n",
       "      <td>45.839</td>\n",
       "      <td>354.1786</td>\n",
       "      <td>160.513</td>\n",
       "      <td>1625.370</td>\n",
       "      <td>632.122</td>\n",
       "      <td>2.061</td>\n",
       "      <td>91.696</td>\n",
       "      <td>79.365</td>\n",
       "      <td>84.995</td>\n",
       "      <td>160.513</td>\n",
       "      <td>712.687</td>\n",
       "      <td>93.251</td>\n",
       "    </tr>\n",
       "  </tbody>\n",
       "</table>\n",
       "<p>78682 rows × 19 columns</p>\n",
       "</div>"
      ],
      "text/plain": [
       "     status_label       X1       X2      X3       X4       X5       X6  \\\n",
       "year                                                                     \n",
       "1999        alive  511.267  833.107  18.373   89.031  336.018   35.163   \n",
       "2000        alive  485.856  713.811  18.577   64.367  320.590   18.531   \n",
       "2001        alive  436.656  526.477  22.496   27.207  286.588  -58.939   \n",
       "2002        alive  396.412  496.747  27.172   30.745  259.954  -12.410   \n",
       "2003        alive  432.204  523.302  26.680   47.491  247.245    3.504   \n",
       "...           ...      ...      ...     ...      ...      ...      ...   \n",
       "2014        alive  233.211   43.338  14.094   45.615    3.376   25.261   \n",
       "2015        alive  105.559   59.184  42.592  202.133    2.288  129.688   \n",
       "2016        alive   63.971   69.074  65.057   79.051    2.581   -1.442   \n",
       "2017        alive  135.207   66.527  65.330   69.171    2.013  -20.401   \n",
       "2018        alive   82.589   68.817  65.201   67.262    2.112  -50.946   \n",
       "\n",
       "           X7        X8        X9       X10      X11      X12      X13  \\\n",
       "year                                                                     \n",
       "1999  128.348  372.7519  1024.333   740.998  180.447   70.658  191.226   \n",
       "2000  115.187  377.1180   874.255   701.854  179.987   45.790  160.444   \n",
       "2001   77.528  364.5928   638.721   710.199  217.699    4.711  112.244   \n",
       "2002   66.322  143.3295   606.337   686.621  164.658    3.573  109.590   \n",
       "2003  104.661  308.9071   651.958   709.292  248.666   20.811  128.656   \n",
       "...       ...       ...       ...       ...      ...      ...      ...   \n",
       "2014   22.846  756.4827   104.223  1099.101  184.666   31.521   60.885   \n",
       "2015   54.611  527.5750   291.153  1865.926  770.103  159.541  231.969   \n",
       "2016   42.467  578.8868   169.858  1746.235  683.985   13.994  100.784   \n",
       "2017   27.217  412.6241   161.884  1736.110  694.035    3.841   95.357   \n",
       "2018   45.839  354.1786   160.513  1625.370  632.122    2.061   91.696   \n",
       "\n",
       "          X14      X15       X16      X17      X18  \n",
       "year                                                \n",
       "1999  163.816  201.026  1024.333  401.483  935.302  \n",
       "2000  125.392  204.065   874.255  361.642  809.888  \n",
       "2001  150.464  139.603   638.721  399.964  611.514  \n",
       "2002  203.575  124.106   606.337  391.633  575.592  \n",
       "2003  131.261  131.884   651.958  407.608  604.467  \n",
       "...       ...      ...       ...      ...      ...  \n",
       "2014   28.197   28.095   104.223  225.887   58.608  \n",
       "2015   88.128  157.783   291.153  880.327   89.020  \n",
       "2016   85.765  156.341   169.858  770.233   90.807  \n",
       "2017   82.010  135.941   161.884  776.697   92.713  \n",
       "2018   79.365   84.995   160.513  712.687   93.251  \n",
       "\n",
       "[78682 rows x 19 columns]"
      ]
     },
     "execution_count": 7,
     "metadata": {},
     "output_type": "execute_result"
    }
   ],
   "source": [
    "df"
   ]
  },
  {
   "cell_type": "code",
   "execution_count": 8,
   "id": "643a43a8",
   "metadata": {
    "execution": {
     "iopub.execute_input": "2023-10-07T10:21:51.066377Z",
     "iopub.status.busy": "2023-10-07T10:21:51.065894Z",
     "iopub.status.idle": "2023-10-07T10:21:51.347179Z",
     "shell.execute_reply": "2023-10-07T10:21:51.346033Z"
    },
    "papermill": {
     "duration": 0.293728,
     "end_time": "2023-10-07T10:21:51.349785",
     "exception": false,
     "start_time": "2023-10-07T10:21:51.056057",
     "status": "completed"
    },
    "tags": []
   },
   "outputs": [
    {
     "data": {
      "image/png": "[encoded data removed]",
      "text/plain": [
       "<Figure size 640x480 with 1 Axes>"
      ]
     },
     "metadata": {},
     "output_type": "display_data"
    }
   ],
   "source": [
    "df['status_label'].value_counts(normalize=True).plot(\n",
    "    kind='bar',\n",
    "    xlabel='Bankrupt',\n",
    "    ylabel='Frequency',\n",
    "    title='Class Balance');\n"
   ]
  },
  {
   "cell_type": "code",
   "execution_count": 9,
   "id": "3a069225",
   "metadata": {
    "execution": {
     "iopub.execute_input": "2023-10-07T10:21:51.368582Z",
     "iopub.status.busy": "2023-10-07T10:21:51.367928Z",
     "iopub.status.idle": "2023-10-07T10:21:51.705525Z",
     "shell.execute_reply": "2023-10-07T10:21:51.704412Z"
    },
    "papermill": {
     "duration": 0.349369,
     "end_time": "2023-10-07T10:21:51.707601",
     "exception": false,
     "start_time": "2023-10-07T10:21:51.358232",
     "status": "completed"
    },
    "tags": []
   },
   "outputs": [
    {
     "data": {
      "image/png": "[encoded data removed]",
      "text/plain": [
       "<Figure size 640x480 with 1 Axes>"
      ]
     },
     "metadata": {},
     "output_type": "display_data"
    }
   ],
   "source": [
    "sns.boxplot(x='status_label', y='X1', data=df)\n",
    "plt.xlabel(\"Bankrupt\")\n",
    "plt.ylabel(\"Current assets\")\n",
    "plt.title(\"Distribution of Current assets, by Class\");"
   ]
  },
  {
   "cell_type": "code",
   "execution_count": 10,
   "id": "ec96b75e",
   "metadata": {
    "execution": {
     "iopub.execute_input": "2023-10-07T10:21:51.727132Z",
     "iopub.status.busy": "2023-10-07T10:21:51.726545Z",
     "iopub.status.idle": "2023-10-07T10:21:52.052723Z",
     "shell.execute_reply": "2023-10-07T10:21:52.051455Z"
    },
    "papermill": {
     "duration": 0.338592,
     "end_time": "2023-10-07T10:21:52.054942",
     "exception": false,
     "start_time": "2023-10-07T10:21:51.716350",
     "status": "completed"
    },
    "tags": []
   },
   "outputs": [
    {
     "data": {
      "image/png": "[encoded data removed]",
      "text/plain": [
       "<Figure size 640x480 with 1 Axes>"
      ]
     },
     "metadata": {},
     "output_type": "display_data"
    }
   ],
   "source": [
    "df['X1'].hist()\n",
    "plt.xlabel(\"Current Assets\")\n",
    "plt.ylabel(\"Count\"),\n",
    "plt.title(\"Distribution of Current Assets\");"
   ]
  },
  {
   "cell_type": "code",
   "execution_count": 11,
   "id": "89cfd087",
   "metadata": {
    "execution": {
     "iopub.execute_input": "2023-10-07T10:21:52.077585Z",
     "iopub.status.busy": "2023-10-07T10:21:52.077132Z",
     "iopub.status.idle": "2023-10-07T10:21:52.399616Z",
     "shell.execute_reply": "2023-10-07T10:21:52.398302Z"
    },
    "papermill": {
     "duration": 0.33662,
     "end_time": "2023-10-07T10:21:52.402243",
     "exception": false,
     "start_time": "2023-10-07T10:21:52.065623",
     "status": "completed"
    },
    "tags": []
   },
   "outputs": [
    {
     "data": {
      "image/png": "[encoded data removed]",
      "text/plain": [
       "<Figure size 640x480 with 1 Axes>"
      ]
     },
     "metadata": {},
     "output_type": "display_data"
    }
   ],
   "source": [
    "q1,q9=df['X1'].quantile([0.1,0.9])\n",
    "mask = df['X1'].between(q1,q9)\n",
    "sns.boxplot(x='status_label', y='X1', data=df[mask])\n",
    "plt.xlabel(\"Bankrupt\")\n",
    "plt.ylabel(\"Current Assets\")\n",
    "plt.title(\"Distribution of Current Assets, by Bankruptcy Status\");"
   ]
  },
  {
   "cell_type": "code",
   "execution_count": 12,
   "id": "4f7e8b54",
   "metadata": {
    "execution": {
     "iopub.execute_input": "2023-10-07T10:21:52.426125Z",
     "iopub.status.busy": "2023-10-07T10:21:52.425731Z",
     "iopub.status.idle": "2023-10-07T10:21:52.728977Z",
     "shell.execute_reply": "2023-10-07T10:21:52.728188Z"
    },
    "papermill": {
     "duration": 0.318383,
     "end_time": "2023-10-07T10:21:52.731101",
     "exception": false,
     "start_time": "2023-10-07T10:21:52.412718",
     "status": "completed"
    },
    "tags": []
   },
   "outputs": [
    {
     "data": {
      "image/png": "[encoded data removed]",
      "text/plain": [
       "<Figure size 640x480 with 1 Axes>"
      ]
     },
     "metadata": {},
     "output_type": "display_data"
    }
   ],
   "source": [
    "q1,q9=df['X2'].quantile([0.1,0.9])\n",
    "mask = df['X2'].between(q1,q9)\n",
    "sns.boxplot(x='status_label', y='X2', data=df[mask])\n",
    "plt.xlabel(\"Bankrupt\")\n",
    "plt.ylabel(\"Cost of goods sold \")\n",
    "plt.title(\"Distribution of Cost of goods sold, by Bankruptcy Status\");"
   ]
  },
  {
   "cell_type": "code",
   "execution_count": 13,
   "id": "601d4365",
   "metadata": {
    "execution": {
     "iopub.execute_input": "2023-10-07T10:21:52.753907Z",
     "iopub.status.busy": "2023-10-07T10:21:52.753537Z",
     "iopub.status.idle": "2023-10-07T10:21:52.763495Z",
     "shell.execute_reply": "2023-10-07T10:21:52.762388Z"
    },
    "papermill": {
     "duration": 0.024043,
     "end_time": "2023-10-07T10:21:52.765587",
     "exception": false,
     "start_time": "2023-10-07T10:21:52.741544",
     "status": "completed"
    },
    "tags": []
   },
   "outputs": [],
   "source": [
    "target = \"status_label\"\n",
    "X = df.drop(columns='status_label')\n",
    "y = df[target]"
   ]
  },
  {
   "cell_type": "code",
   "execution_count": 14,
   "id": "1a255db8",
   "metadata": {
    "execution": {
     "iopub.execute_input": "2023-10-07T10:21:52.787798Z",
     "iopub.status.busy": "2023-10-07T10:21:52.787447Z",
     "iopub.status.idle": "2023-10-07T10:21:52.812761Z",
     "shell.execute_reply": "2023-10-07T10:21:52.811694Z"
    },
    "papermill": {
     "duration": 0.03936,
     "end_time": "2023-10-07T10:21:52.815148",
     "exception": false,
     "start_time": "2023-10-07T10:21:52.775788",
     "status": "completed"
    },
    "tags": []
   },
   "outputs": [],
   "source": [
    "X_train, X_test, y_train, y_test = train_test_split(X, y, test_size=0.2, random_state=42)"
   ]
  },
  {
   "cell_type": "code",
   "execution_count": 15,
   "id": "cc303e52",
   "metadata": {
    "execution": {
     "iopub.execute_input": "2023-10-07T10:21:52.837653Z",
     "iopub.status.busy": "2023-10-07T10:21:52.837307Z",
     "iopub.status.idle": "2023-10-07T10:21:53.123386Z",
     "shell.execute_reply": "2023-10-07T10:21:53.122217Z"
    },
    "papermill": {
     "duration": 0.300163,
     "end_time": "2023-10-07T10:21:53.125671",
     "exception": false,
     "start_time": "2023-10-07T10:21:52.825508",
     "status": "completed"
    },
    "tags": []
   },
   "outputs": [
    {
     "name": "stdout",
     "output_type": "stream",
     "text": [
      "(8304, 18)\n"
     ]
    },
    {
     "data": {
      "text/html": [
       "<div>\n",
       "<style scoped>\n",
       "    .dataframe tbody tr th:only-of-type {\n",
       "        vertical-align: middle;\n",
       "    }\n",
       "\n",
       "    .dataframe tbody tr th {\n",
       "        vertical-align: top;\n",
       "    }\n",
       "\n",
       "    .dataframe thead th {\n",
       "        text-align: right;\n",
       "    }\n",
       "</style>\n",
       "<table border=\"1\" class=\"dataframe\">\n",
       "  <thead>\n",
       "    <tr style=\"text-align: right;\">\n",
       "      <th></th>\n",
       "      <th>X1</th>\n",
       "      <th>X2</th>\n",
       "      <th>X3</th>\n",
       "      <th>X4</th>\n",
       "      <th>X5</th>\n",
       "      <th>X6</th>\n",
       "      <th>X7</th>\n",
       "      <th>X8</th>\n",
       "      <th>X9</th>\n",
       "      <th>X10</th>\n",
       "      <th>X11</th>\n",
       "      <th>X12</th>\n",
       "      <th>X13</th>\n",
       "      <th>X14</th>\n",
       "      <th>X15</th>\n",
       "      <th>X16</th>\n",
       "      <th>X17</th>\n",
       "      <th>X18</th>\n",
       "    </tr>\n",
       "    <tr>\n",
       "      <th>year</th>\n",
       "      <th></th>\n",
       "      <th></th>\n",
       "      <th></th>\n",
       "      <th></th>\n",
       "      <th></th>\n",
       "      <th></th>\n",
       "      <th></th>\n",
       "      <th></th>\n",
       "      <th></th>\n",
       "      <th></th>\n",
       "      <th></th>\n",
       "      <th></th>\n",
       "      <th></th>\n",
       "      <th></th>\n",
       "      <th></th>\n",
       "      <th></th>\n",
       "      <th></th>\n",
       "      <th></th>\n",
       "    </tr>\n",
       "  </thead>\n",
       "  <tbody>\n",
       "    <tr>\n",
       "      <th>2001</th>\n",
       "      <td>144.645</td>\n",
       "      <td>186.166</td>\n",
       "      <td>28.366</td>\n",
       "      <td>67.730</td>\n",
       "      <td>25.120</td>\n",
       "      <td>31.936</td>\n",
       "      <td>40.725</td>\n",
       "      <td>312.6657</td>\n",
       "      <td>323.352</td>\n",
       "      <td>278.953</td>\n",
       "      <td>56.996</td>\n",
       "      <td>39.364</td>\n",
       "      <td>137.186</td>\n",
       "      <td>54.342</td>\n",
       "      <td>39.205</td>\n",
       "      <td>323.352</td>\n",
       "      <td>116.048</td>\n",
       "      <td>255.622</td>\n",
       "    </tr>\n",
       "    <tr>\n",
       "      <th>2004</th>\n",
       "      <td>258.078</td>\n",
       "      <td>945.211</td>\n",
       "      <td>68.086</td>\n",
       "      <td>156.076</td>\n",
       "      <td>5.421</td>\n",
       "      <td>86.945</td>\n",
       "      <td>205.383</td>\n",
       "      <td>744.1578</td>\n",
       "      <td>1101.287</td>\n",
       "      <td>1787.608</td>\n",
       "      <td>493.761</td>\n",
       "      <td>87.990</td>\n",
       "      <td>156.076</td>\n",
       "      <td>197.624</td>\n",
       "      <td>244.383</td>\n",
       "      <td>1101.287</td>\n",
       "      <td>1239.211</td>\n",
       "      <td>945.211</td>\n",
       "    </tr>\n",
       "    <tr>\n",
       "      <th>2008</th>\n",
       "      <td>48.023</td>\n",
       "      <td>39.309</td>\n",
       "      <td>1.406</td>\n",
       "      <td>6.032</td>\n",
       "      <td>12.826</td>\n",
       "      <td>2.964</td>\n",
       "      <td>9.246</td>\n",
       "      <td>49.1117</td>\n",
       "      <td>71.783</td>\n",
       "      <td>62.155</td>\n",
       "      <td>0.000</td>\n",
       "      <td>4.626</td>\n",
       "      <td>32.474</td>\n",
       "      <td>7.904</td>\n",
       "      <td>25.351</td>\n",
       "      <td>71.783</td>\n",
       "      <td>10.684</td>\n",
       "      <td>65.751</td>\n",
       "    </tr>\n",
       "    <tr>\n",
       "      <th>2008</th>\n",
       "      <td>2554.100</td>\n",
       "      <td>11752.400</td>\n",
       "      <td>90.800</td>\n",
       "      <td>565.700</td>\n",
       "      <td>1876.000</td>\n",
       "      <td>-1243.100</td>\n",
       "      <td>387.400</td>\n",
       "      <td>1747.3076</td>\n",
       "      <td>14131.900</td>\n",
       "      <td>6014.100</td>\n",
       "      <td>1225.600</td>\n",
       "      <td>474.900</td>\n",
       "      <td>2379.500</td>\n",
       "      <td>2455.800</td>\n",
       "      <td>2022.300</td>\n",
       "      <td>14131.900</td>\n",
       "      <td>3816.000</td>\n",
       "      <td>13566.200</td>\n",
       "    </tr>\n",
       "    <tr>\n",
       "      <th>2012</th>\n",
       "      <td>154.014</td>\n",
       "      <td>276.204</td>\n",
       "      <td>25.245</td>\n",
       "      <td>59.513</td>\n",
       "      <td>64.437</td>\n",
       "      <td>9.127</td>\n",
       "      <td>67.497</td>\n",
       "      <td>387.0834</td>\n",
       "      <td>410.505</td>\n",
       "      <td>605.318</td>\n",
       "      <td>201.530</td>\n",
       "      <td>34.268</td>\n",
       "      <td>134.301</td>\n",
       "      <td>59.361</td>\n",
       "      <td>27.273</td>\n",
       "      <td>410.505</td>\n",
       "      <td>290.588</td>\n",
       "      <td>350.992</td>\n",
       "    </tr>\n",
       "  </tbody>\n",
       "</table>\n",
       "</div>"
      ],
      "text/plain": [
       "            X1         X2      X3       X4        X5        X6       X7  \\\n",
       "year                                                                      \n",
       "2001   144.645    186.166  28.366   67.730    25.120    31.936   40.725   \n",
       "2004   258.078    945.211  68.086  156.076     5.421    86.945  205.383   \n",
       "2008    48.023     39.309   1.406    6.032    12.826     2.964    9.246   \n",
       "2008  2554.100  11752.400  90.800  565.700  1876.000 -1243.100  387.400   \n",
       "2012   154.014    276.204  25.245   59.513    64.437     9.127   67.497   \n",
       "\n",
       "             X8         X9       X10       X11      X12       X13       X14  \\\n",
       "year                                                                          \n",
       "2001   312.6657    323.352   278.953    56.996   39.364   137.186    54.342   \n",
       "2004   744.1578   1101.287  1787.608   493.761   87.990   156.076   197.624   \n",
       "2008    49.1117     71.783    62.155     0.000    4.626    32.474     7.904   \n",
       "2008  1747.3076  14131.900  6014.100  1225.600  474.900  2379.500  2455.800   \n",
       "2012   387.0834    410.505   605.318   201.530   34.268   134.301    59.361   \n",
       "\n",
       "           X15        X16       X17        X18  \n",
       "year                                            \n",
       "2001    39.205    323.352   116.048    255.622  \n",
       "2004   244.383   1101.287  1239.211    945.211  \n",
       "2008    25.351     71.783    10.684     65.751  \n",
       "2008  2022.300  14131.900  3816.000  13566.200  \n",
       "2012    27.273    410.505   290.588    350.992  "
      ]
     },
     "execution_count": 15,
     "metadata": {},
     "output_type": "execute_result"
    }
   ],
   "source": [
    "under_sampler = RandomUnderSampler(random_state=42)\n",
    "X_train_under, y_train_under = under_sampler.fit_resample(X_train, y_train)\n",
    "print(X_train_under.shape)\n",
    "X_train_under.head()"
   ]
  },
  {
   "cell_type": "code",
   "execution_count": 16,
   "id": "d44b3f5d",
   "metadata": {
    "execution": {
     "iopub.execute_input": "2023-10-07T10:21:53.149095Z",
     "iopub.status.busy": "2023-10-07T10:21:53.148722Z",
     "iopub.status.idle": "2023-10-07T10:21:53.408239Z",
     "shell.execute_reply": "2023-10-07T10:21:53.406949Z"
    },
    "papermill": {
     "duration": 0.27391,
     "end_time": "2023-10-07T10:21:53.410552",
     "exception": false,
     "start_time": "2023-10-07T10:21:53.136642",
     "status": "completed"
    },
    "tags": []
   },
   "outputs": [
    {
     "name": "stdout",
     "output_type": "stream",
     "text": [
      "(117586, 18)\n"
     ]
    },
    {
     "data": {
      "text/html": [
       "<div>\n",
       "<style scoped>\n",
       "    .dataframe tbody tr th:only-of-type {\n",
       "        vertical-align: middle;\n",
       "    }\n",
       "\n",
       "    .dataframe tbody tr th {\n",
       "        vertical-align: top;\n",
       "    }\n",
       "\n",
       "    .dataframe thead th {\n",
       "        text-align: right;\n",
       "    }\n",
       "</style>\n",
       "<table border=\"1\" class=\"dataframe\">\n",
       "  <thead>\n",
       "    <tr style=\"text-align: right;\">\n",
       "      <th></th>\n",
       "      <th>X1</th>\n",
       "      <th>X2</th>\n",
       "      <th>X3</th>\n",
       "      <th>X4</th>\n",
       "      <th>X5</th>\n",
       "      <th>X6</th>\n",
       "      <th>X7</th>\n",
       "      <th>X8</th>\n",
       "      <th>X9</th>\n",
       "      <th>X10</th>\n",
       "      <th>X11</th>\n",
       "      <th>X12</th>\n",
       "      <th>X13</th>\n",
       "      <th>X14</th>\n",
       "      <th>X15</th>\n",
       "      <th>X16</th>\n",
       "      <th>X17</th>\n",
       "      <th>X18</th>\n",
       "    </tr>\n",
       "  </thead>\n",
       "  <tbody>\n",
       "    <tr>\n",
       "      <th>0</th>\n",
       "      <td>46.586</td>\n",
       "      <td>72.848</td>\n",
       "      <td>3.402</td>\n",
       "      <td>-4.644</td>\n",
       "      <td>12.405</td>\n",
       "      <td>-11.818</td>\n",
       "      <td>25.495</td>\n",
       "      <td>39.2014</td>\n",
       "      <td>93.100</td>\n",
       "      <td>57.937</td>\n",
       "      <td>0.000</td>\n",
       "      <td>-8.046</td>\n",
       "      <td>20.252</td>\n",
       "      <td>19.125</td>\n",
       "      <td>-130.221</td>\n",
       "      <td>93.100</td>\n",
       "      <td>19.125</td>\n",
       "      <td>97.744</td>\n",
       "    </tr>\n",
       "    <tr>\n",
       "      <th>1</th>\n",
       "      <td>19.389</td>\n",
       "      <td>17.911</td>\n",
       "      <td>3.404</td>\n",
       "      <td>3.777</td>\n",
       "      <td>6.405</td>\n",
       "      <td>1.060</td>\n",
       "      <td>5.417</td>\n",
       "      <td>59.2595</td>\n",
       "      <td>32.525</td>\n",
       "      <td>47.117</td>\n",
       "      <td>5.670</td>\n",
       "      <td>0.373</td>\n",
       "      <td>14.614</td>\n",
       "      <td>5.712</td>\n",
       "      <td>-194.776</td>\n",
       "      <td>32.525</td>\n",
       "      <td>11.760</td>\n",
       "      <td>28.748</td>\n",
       "    </tr>\n",
       "    <tr>\n",
       "      <th>2</th>\n",
       "      <td>1.293</td>\n",
       "      <td>0.363</td>\n",
       "      <td>0.403</td>\n",
       "      <td>-13.116</td>\n",
       "      <td>0.000</td>\n",
       "      <td>-33.904</td>\n",
       "      <td>0.262</td>\n",
       "      <td>14.1718</td>\n",
       "      <td>0.787</td>\n",
       "      <td>2.578</td>\n",
       "      <td>0.000</td>\n",
       "      <td>-13.519</td>\n",
       "      <td>0.424</td>\n",
       "      <td>34.626</td>\n",
       "      <td>-89.817</td>\n",
       "      <td>0.787</td>\n",
       "      <td>38.507</td>\n",
       "      <td>13.903</td>\n",
       "    </tr>\n",
       "    <tr>\n",
       "      <th>3</th>\n",
       "      <td>215.937</td>\n",
       "      <td>262.363</td>\n",
       "      <td>50.751</td>\n",
       "      <td>8.733</td>\n",
       "      <td>53.568</td>\n",
       "      <td>-58.922</td>\n",
       "      <td>55.478</td>\n",
       "      <td>81.0974</td>\n",
       "      <td>347.189</td>\n",
       "      <td>479.712</td>\n",
       "      <td>175.191</td>\n",
       "      <td>-42.018</td>\n",
       "      <td>84.826</td>\n",
       "      <td>38.572</td>\n",
       "      <td>-157.645</td>\n",
       "      <td>347.189</td>\n",
       "      <td>215.034</td>\n",
       "      <td>338.456</td>\n",
       "    </tr>\n",
       "    <tr>\n",
       "      <th>4</th>\n",
       "      <td>159.985</td>\n",
       "      <td>77.071</td>\n",
       "      <td>15.484</td>\n",
       "      <td>-19.247</td>\n",
       "      <td>61.897</td>\n",
       "      <td>-41.660</td>\n",
       "      <td>46.430</td>\n",
       "      <td>847.1710</td>\n",
       "      <td>236.634</td>\n",
       "      <td>383.525</td>\n",
       "      <td>71.827</td>\n",
       "      <td>-34.731</td>\n",
       "      <td>159.563</td>\n",
       "      <td>44.081</td>\n",
       "      <td>-212.852</td>\n",
       "      <td>236.634</td>\n",
       "      <td>121.957</td>\n",
       "      <td>255.881</td>\n",
       "    </tr>\n",
       "  </tbody>\n",
       "</table>\n",
       "</div>"
      ],
      "text/plain": [
       "        X1       X2      X3      X4      X5      X6      X7        X8  \\\n",
       "0   46.586   72.848   3.402  -4.644  12.405 -11.818  25.495   39.2014   \n",
       "1   19.389   17.911   3.404   3.777   6.405   1.060   5.417   59.2595   \n",
       "2    1.293    0.363   0.403 -13.116   0.000 -33.904   0.262   14.1718   \n",
       "3  215.937  262.363  50.751   8.733  53.568 -58.922  55.478   81.0974   \n",
       "4  159.985   77.071  15.484 -19.247  61.897 -41.660  46.430  847.1710   \n",
       "\n",
       "        X9      X10      X11     X12      X13     X14      X15      X16  \\\n",
       "0   93.100   57.937    0.000  -8.046   20.252  19.125 -130.221   93.100   \n",
       "1   32.525   47.117    5.670   0.373   14.614   5.712 -194.776   32.525   \n",
       "2    0.787    2.578    0.000 -13.519    0.424  34.626  -89.817    0.787   \n",
       "3  347.189  479.712  175.191 -42.018   84.826  38.572 -157.645  347.189   \n",
       "4  236.634  383.525   71.827 -34.731  159.563  44.081 -212.852  236.634   \n",
       "\n",
       "       X17      X18  \n",
       "0   19.125   97.744  \n",
       "1   11.760   28.748  \n",
       "2   38.507   13.903  \n",
       "3  215.034  338.456  \n",
       "4  121.957  255.881  "
      ]
     },
     "execution_count": 16,
     "metadata": {},
     "output_type": "execute_result"
    }
   ],
   "source": [
    "over_sampler = RandomOverSampler(random_state=42)\n",
    "X_train_over, y_train_over =over_sampler.fit_resample(X_train, y_train)\n",
    "print(X_train_over.shape)\n",
    "X_train_over.head()"
   ]
  },
  {
   "cell_type": "code",
   "execution_count": 17,
   "id": "55438ae7",
   "metadata": {
    "execution": {
     "iopub.execute_input": "2023-10-07T10:21:53.435546Z",
     "iopub.status.busy": "2023-10-07T10:21:53.434920Z",
     "iopub.status.idle": "2023-10-07T10:21:53.447565Z",
     "shell.execute_reply": "2023-10-07T10:21:53.446436Z"
    },
    "papermill": {
     "duration": 0.027584,
     "end_time": "2023-10-07T10:21:53.449687",
     "exception": false,
     "start_time": "2023-10-07T10:21:53.422103",
     "status": "completed"
    },
    "tags": []
   },
   "outputs": [
    {
     "name": "stdout",
     "output_type": "stream",
     "text": [
      "Baseline Accuracy: 0.934\n"
     ]
    }
   ],
   "source": [
    "acc_baseline = y_train.value_counts(normalize=True).max()\n",
    "print(\"Baseline Accuracy:\", round(acc_baseline, 4))"
   ]
  },
  {
   "cell_type": "code",
   "execution_count": 18,
   "id": "58f2c30a",
   "metadata": {
    "execution": {
     "iopub.execute_input": "2023-10-07T10:21:53.474679Z",
     "iopub.status.busy": "2023-10-07T10:21:53.474039Z",
     "iopub.status.idle": "2023-10-07T10:22:00.842426Z",
     "shell.execute_reply": "2023-10-07T10:22:00.841187Z"
    },
    "papermill": {
     "duration": 7.383602,
     "end_time": "2023-10-07T10:22:00.844944",
     "exception": false,
     "start_time": "2023-10-07T10:21:53.461342",
     "status": "completed"
    },
    "tags": []
   },
   "outputs": [
    {
     "data": {
      "text/html": [
       "<style>#sk-container-id-1 {color: black;background-color: white;}#sk-container-id-1 pre{padding: 0;}#sk-container-id-1 div.sk-toggleable {background-color: white;}#sk-container-id-1 label.sk-toggleable__label {cursor: pointer;display: block;width: 100%;margin-bottom: 0;padding: 0.3em;box-sizing: border-box;text-align: center;}#sk-container-id-1 label.sk-toggleable__label-arrow:before {content: \"▸\";float: left;margin-right: 0.25em;color: #696969;}#sk-container-id-1 label.sk-toggleable__label-arrow:hover:before {color: black;}#sk-container-id-1 div.sk-estimator:hover label.sk-toggleable__label-arrow:before {color: black;}#sk-container-id-1 div.sk-toggleable__content {max-height: 0;max-width: 0;overflow: hidden;text-align: left;background-color: #f0f8ff;}#sk-container-id-1 div.sk-toggleable__content pre {margin: 0.2em;color: black;border-radius: 0.25em;background-color: #f0f8ff;}#sk-container-id-1 input.sk-toggleable__control:checked~div.sk-toggleable__content {max-height: 200px;max-width: 100%;overflow: auto;}#sk-container-id-1 input.sk-toggleable__control:checked~label.sk-toggleable__label-arrow:before {content: \"▾\";}#sk-container-id-1 div.sk-estimator input.sk-toggleable__control:checked~label.sk-toggleable__label {background-color: #d4ebff;}#sk-container-id-1 div.sk-label input.sk-toggleable__control:checked~label.sk-toggleable__label {background-color: #d4ebff;}#sk-container-id-1 input.sk-hidden--visually {border: 0;clip: rect(1px 1px 1px 1px);clip: rect(1px, 1px, 1px, 1px);height: 1px;margin: -1px;overflow: hidden;padding: 0;position: absolute;width: 1px;}#sk-container-id-1 div.sk-estimator {font-family: monospace;background-color: #f0f8ff;border: 1px dotted black;border-radius: 0.25em;box-sizing: border-box;margin-bottom: 0.5em;}#sk-container-id-1 div.sk-estimator:hover {background-color: #d4ebff;}#sk-container-id-1 div.sk-parallel-item::after {content: \"\";width: 100%;border-bottom: 1px solid gray;flex-grow: 1;}#sk-container-id-1 div.sk-label:hover label.sk-toggleable__label {background-color: #d4ebff;}#sk-container-id-1 div.sk-serial::before {content: \"\";position: absolute;border-left: 1px solid gray;box-sizing: border-box;top: 0;bottom: 0;left: 50%;z-index: 0;}#sk-container-id-1 div.sk-serial {display: flex;flex-direction: column;align-items: center;background-color: white;padding-right: 0.2em;padding-left: 0.2em;position: relative;}#sk-container-id-1 div.sk-item {position: relative;z-index: 1;}#sk-container-id-1 div.sk-parallel {display: flex;align-items: stretch;justify-content: center;background-color: white;position: relative;}#sk-container-id-1 div.sk-item::before, #sk-container-id-1 div.sk-parallel-item::before {content: \"\";position: absolute;border-left: 1px solid gray;box-sizing: border-box;top: 0;bottom: 0;left: 50%;z-index: -1;}#sk-container-id-1 div.sk-parallel-item {display: flex;flex-direction: column;z-index: 1;position: relative;background-color: white;}#sk-container-id-1 div.sk-parallel-item:first-child::after {align-self: flex-end;width: 50%;}#sk-container-id-1 div.sk-parallel-item:last-child::after {align-self: flex-start;width: 50%;}#sk-container-id-1 div.sk-parallel-item:only-child::after {width: 0;}#sk-container-id-1 div.sk-dashed-wrapped {border: 1px dashed gray;margin: 0 0.4em 0.5em 0.4em;box-sizing: border-box;padding-bottom: 0.4em;background-color: white;}#sk-container-id-1 div.sk-label label {font-family: monospace;font-weight: bold;display: inline-block;line-height: 1.2em;}#sk-container-id-1 div.sk-label-container {text-align: center;}#sk-container-id-1 div.sk-container {/* jupyter's `normalize.less` sets `[hidden] { display: none; }` but bootstrap.min.css set `[hidden] { display: none !important; }` so we also need the `!important` here to be able to override the default hidden behavior on the sphinx rendered scikit-learn.org. See: https://github.com/scikit-learn/scikit-learn/issues/21755 */display: inline-block !important;position: relative;}#sk-container-id-1 div.sk-text-repr-fallback {display: none;}</style><div id=\"sk-container-id-1\" class=\"sk-top-container\"><div class=\"sk-text-repr-fallback\"><pre>Pipeline(steps=[(&#x27;simpleimputer&#x27;, SimpleImputer(strategy=&#x27;median&#x27;)),\n",
       "                (&#x27;decisiontreeclassifier&#x27;,\n",
       "                 DecisionTreeClassifier(random_state=42))])</pre><b>In a Jupyter environment, please rerun this cell to show the HTML representation or trust the notebook. <br />On GitHub, the HTML representation is unable to render, please try loading this page with nbviewer.org.</b></div><div class=\"sk-container\" hidden><div class=\"sk-item sk-dashed-wrapped\"><div class=\"sk-label-container\"><div class=\"sk-label sk-toggleable\"><input class=\"sk-toggleable__control sk-hidden--visually\" id=\"sk-estimator-id-1\" type=\"checkbox\" ><label for=\"sk-estimator-id-1\" class=\"sk-toggleable__label sk-toggleable__label-arrow\">Pipeline</label><div class=\"sk-toggleable__content\"><pre>Pipeline(steps=[(&#x27;simpleimputer&#x27;, SimpleImputer(strategy=&#x27;median&#x27;)),\n",
       "                (&#x27;decisiontreeclassifier&#x27;,\n",
       "                 DecisionTreeClassifier(random_state=42))])</pre></div></div></div><div class=\"sk-serial\"><div class=\"sk-item\"><div class=\"sk-estimator sk-toggleable\"><input class=\"sk-toggleable__control sk-hidden--visually\" id=\"sk-estimator-id-2\" type=\"checkbox\" ><label for=\"sk-estimator-id-2\" class=\"sk-toggleable__label sk-toggleable__label-arrow\">SimpleImputer</label><div class=\"sk-toggleable__content\"><pre>SimpleImputer(strategy=&#x27;median&#x27;)</pre></div></div></div><div class=\"sk-item\"><div class=\"sk-estimator sk-toggleable\"><input class=\"sk-toggleable__control sk-hidden--visually\" id=\"sk-estimator-id-3\" type=\"checkbox\" ><label for=\"sk-estimator-id-3\" class=\"sk-toggleable__label sk-toggleable__label-arrow\">DecisionTreeClassifier</label><div class=\"sk-toggleable__content\"><pre>DecisionTreeClassifier(random_state=42)</pre></div></div></div></div></div></div></div>"
      ],
      "text/plain": [
       "Pipeline(steps=[('simpleimputer', SimpleImputer(strategy='median')),\n",
       "                ('decisiontreeclassifier',\n",
       "                 DecisionTreeClassifier(random_state=42))])"
      ]
     },
     "execution_count": 18,
     "metadata": {},
     "output_type": "execute_result"
    }
   ],
   "source": [
    "model_reg = make_pipeline(\n",
    "    SimpleImputer(strategy='median'),\n",
    "    DecisionTreeClassifier(random_state=42)\n",
    ")\n",
    "model_reg.fit(X_train, y_train)\n",
    "\n",
    "# Fit on `X_train_under`, `y_train_under`\n",
    "model_under = make_pipeline(\n",
    "    SimpleImputer(strategy='median'),\n",
    "    DecisionTreeClassifier(random_state=42)\n",
    ")\n",
    "model_under.fit(X_train_under, y_train_under)\n",
    "\n",
    "# Fit on `X_train_over`, `y_train_over`\n",
    "model_over = make_pipeline(\n",
    "    SimpleImputer(strategy='median'),\n",
    "    DecisionTreeClassifier(random_state=42)\n",
    ")\n",
    "model_over.fit(X_train_over, y_train_over)"
   ]
  },
  {
   "cell_type": "code",
   "execution_count": 19,
   "id": "8d1c7ddf",
   "metadata": {
    "execution": {
     "iopub.execute_input": "2023-10-07T10:22:00.929747Z",
     "iopub.status.busy": "2023-10-07T10:22:00.929406Z",
     "iopub.status.idle": "2023-10-07T10:22:01.666587Z",
     "shell.execute_reply": "2023-10-07T10:22:01.665200Z"
    },
    "papermill": {
     "duration": 0.812022,
     "end_time": "2023-10-07T10:22:01.668884",
     "exception": false,
     "start_time": "2023-10-07T10:22:00.856862",
     "status": "completed"
    },
    "tags": []
   },
   "outputs": [
    {
     "name": "stdout",
     "output_type": "stream",
     "text": [
      "Training Accuracy: 1.0\n",
      "Test Accuracy: 0.8936\n",
      "Training Accuracy: 0.6927\n",
      "Test Accuracy: 0.6466\n",
      "Training Accuracy: 1.0\n",
      "Test Accuracy: 0.8983\n"
     ]
    }
   ],
   "source": [
    "for m in [model_reg, model_under, model_over]:\n",
    "    acc_train = m.score(X_train,y_train)\n",
    "    acc_test = m.score(X_test,y_test)\n",
    "\n",
    "    print(\"Training Accuracy:\", round(acc_train, 4))\n",
    "    print(\"Test Accuracy:\", round(acc_test, 4))"
   ]
  },
  {
   "cell_type": "code",
   "execution_count": 20,
   "id": "254a54bf",
   "metadata": {
    "execution": {
     "iopub.execute_input": "2023-10-07T10:22:01.694731Z",
     "iopub.status.busy": "2023-10-07T10:22:01.694356Z",
     "iopub.status.idle": "2023-10-07T10:22:01.703445Z",
     "shell.execute_reply": "2023-10-07T10:22:01.702410Z"
    },
    "papermill": {
     "duration": 0.024127,
     "end_time": "2023-10-07T10:22:01.705412",
     "exception": false,
     "start_time": "2023-10-07T10:22:01.681285",
     "status": "completed"
    },
    "tags": []
   },
   "outputs": [
    {
     "data": {
      "text/plain": [
       "status_label\n",
       "alive     14669\n",
       "failed     1068\n",
       "Name: count, dtype: int64"
      ]
     },
     "execution_count": 20,
     "metadata": {},
     "output_type": "execute_result"
    }
   ],
   "source": [
    "y_test.value_counts()"
   ]
  },
  {
   "cell_type": "code",
   "execution_count": 21,
   "id": "0f928161",
   "metadata": {
    "execution": {
     "iopub.execute_input": "2023-10-07T10:22:01.731588Z",
     "iopub.status.busy": "2023-10-07T10:22:01.731212Z",
     "iopub.status.idle": "2023-10-07T10:22:02.114059Z",
     "shell.execute_reply": "2023-10-07T10:22:02.113039Z"
    },
    "papermill": {
     "duration": 0.398277,
     "end_time": "2023-10-07T10:22:02.116158",
     "exception": false,
     "start_time": "2023-10-07T10:22:01.717881",
     "status": "completed"
    },
    "tags": []
   },
   "outputs": [
    {
     "data": {
      "image/png": "[encoded data removed]",
      "text/plain": [
       "<Figure size 640x480 with 2 Axes>"
      ]
     },
     "metadata": {},
     "output_type": "display_data"
    }
   ],
   "source": [
    "ConfusionMatrixDisplay.from_estimator(model_over, X_test, y_test);"
   ]
  },
  {
   "cell_type": "code",
   "execution_count": 22,
   "id": "b7b0be93",
   "metadata": {
    "execution": {
     "iopub.execute_input": "2023-10-07T10:22:02.143028Z",
     "iopub.status.busy": "2023-10-07T10:22:02.142677Z",
     "iopub.status.idle": "2023-10-07T10:22:02.148021Z",
     "shell.execute_reply": "2023-10-07T10:22:02.146896Z"
    },
    "papermill": {
     "duration": 0.021343,
     "end_time": "2023-10-07T10:22:02.150304",
     "exception": false,
     "start_time": "2023-10-07T10:22:02.128961",
     "status": "completed"
    },
    "tags": []
   },
   "outputs": [
    {
     "name": "stdout",
     "output_type": "stream",
     "text": [
      "44\n"
     ]
    }
   ],
   "source": [
    "depth = model_over.named_steps['decisiontreeclassifier'].get_depth()\n",
    "print(depth)"
   ]
  },
  {
   "cell_type": "code",
   "execution_count": 23,
   "id": "b25a79e6",
   "metadata": {
    "execution": {
     "iopub.execute_input": "2023-10-07T10:22:02.178525Z",
     "iopub.status.busy": "2023-10-07T10:22:02.178126Z",
     "iopub.status.idle": "2023-10-07T10:22:02.598191Z",
     "shell.execute_reply": "2023-10-07T10:22:02.597049Z"
    },
    "papermill": {
     "duration": 0.436935,
     "end_time": "2023-10-07T10:22:02.600423",
     "exception": false,
     "start_time": "2023-10-07T10:22:02.163488",
     "status": "completed"
    },
    "tags": []
   },
   "outputs": [
    {
     "data": {
      "image/png": "[encoded data removed]",
      "text/plain": [
       "<Figure size 640x480 with 1 Axes>"
      ]
     },
     "metadata": {},
     "output_type": "display_data"
    }
   ],
   "source": [
    "importances = model_over.named_steps['decisiontreeclassifier'].feature_importances_\n",
    "\n",
    "# Put importances into a Series\n",
    "feat_imp = pd.Series(importances, index= X_train_over.columns).sort_values()\n",
    "\n",
    "# Plot series\n",
    "feat_imp.tail(15).plot(kind='barh')\n",
    "plt.xlabel(\"Gini Importance\")\n",
    "plt.ylabel(\"Feature\")\n",
    "plt.title(\"model_over Feature Importance\");"
   ]
  },
  {
   "cell_type": "code",
   "execution_count": 24,
   "id": "42432141",
   "metadata": {
    "execution": {
     "iopub.execute_input": "2023-10-07T10:22:02.628810Z",
     "iopub.status.busy": "2023-10-07T10:22:02.627974Z",
     "iopub.status.idle": "2023-10-07T10:22:02.632772Z",
     "shell.execute_reply": "2023-10-07T10:22:02.631798Z"
    },
    "papermill": {
     "duration": 0.021221,
     "end_time": "2023-10-07T10:22:02.634703",
     "exception": false,
     "start_time": "2023-10-07T10:22:02.613482",
     "status": "completed"
    },
    "tags": []
   },
   "outputs": [],
   "source": [
    "from sklearn.ensemble import RandomForestClassifier"
   ]
  },
  {
   "cell_type": "code",
   "execution_count": 25,
   "id": "db4ea7a5",
   "metadata": {
    "execution": {
     "iopub.execute_input": "2023-10-07T10:22:02.663898Z",
     "iopub.status.busy": "2023-10-07T10:22:02.663549Z",
     "iopub.status.idle": "2023-10-07T10:22:02.670652Z",
     "shell.execute_reply": "2023-10-07T10:22:02.669544Z"
    },
    "papermill": {
     "duration": 0.025801,
     "end_time": "2023-10-07T10:22:02.673570",
     "exception": false,
     "start_time": "2023-10-07T10:22:02.647769",
     "status": "completed"
    },
    "tags": []
   },
   "outputs": [
    {
     "name": "stdout",
     "output_type": "stream",
     "text": [
      "Pipeline(steps=[('simpleimputer', SimpleImputer()),\n",
      "                ('randomforestclassifier',\n",
      "                 RandomForestClassifier(random_state=42))])\n"
     ]
    }
   ],
   "source": [
    "clf = make_pipeline(SimpleImputer(), RandomForestClassifier(random_state=42))\n",
    "print(clf)"
   ]
  },
  {
   "cell_type": "code",
   "execution_count": 26,
   "id": "e60dc9c8",
   "metadata": {
    "execution": {
     "iopub.execute_input": "2023-10-07T10:22:02.701096Z",
     "iopub.status.busy": "2023-10-07T10:22:02.700765Z",
     "iopub.status.idle": "2023-10-07T10:22:02.707485Z",
     "shell.execute_reply": "2023-10-07T10:22:02.706494Z"
    },
    "papermill": {
     "duration": 0.022638,
     "end_time": "2023-10-07T10:22:02.709517",
     "exception": false,
     "start_time": "2023-10-07T10:22:02.686879",
     "status": "completed"
    },
    "tags": []
   },
   "outputs": [
    {
     "data": {
      "text/plain": [
       "{'simpleimputer__strategy': ['mean', 'median'],\n",
       " 'randomforestclassifier__n_estimators': range(25, 100, 25),\n",
       " 'randomforestclassifier__max_depth': range(10, 50, 10)}"
      ]
     },
     "execution_count": 26,
     "metadata": {},
     "output_type": "execute_result"
    }
   ],
   "source": [
    "params = {\n",
    "    'simpleimputer__strategy': ['mean', 'median'],\n",
    "    'randomforestclassifier__n_estimators': range(25,100,25) ,\n",
    "    'randomforestclassifier__max_depth': range(10,50,10)\n",
    "}\n",
    "params"
   ]
  },
  {
   "cell_type": "code",
   "execution_count": 27,
   "id": "5a3041e8",
   "metadata": {
    "execution": {
     "iopub.execute_input": "2023-10-07T10:22:02.737538Z",
     "iopub.status.busy": "2023-10-07T10:22:02.737188Z",
     "iopub.status.idle": "2023-10-07T10:22:02.761058Z",
     "shell.execute_reply": "2023-10-07T10:22:02.759851Z"
    },
    "papermill": {
     "duration": 0.040667,
     "end_time": "2023-10-07T10:22:02.763244",
     "exception": false,
     "start_time": "2023-10-07T10:22:02.722577",
     "status": "completed"
    },
    "tags": []
   },
   "outputs": [
    {
     "data": {
      "text/html": [
       "<style>#sk-container-id-2 {color: black;background-color: white;}#sk-container-id-2 pre{padding: 0;}#sk-container-id-2 div.sk-toggleable {background-color: white;}#sk-container-id-2 label.sk-toggleable__label {cursor: pointer;display: block;width: 100%;margin-bottom: 0;padding: 0.3em;box-sizing: border-box;text-align: center;}#sk-container-id-2 label.sk-toggleable__label-arrow:before {content: \"▸\";float: left;margin-right: 0.25em;color: #696969;}#sk-container-id-2 label.sk-toggleable__label-arrow:hover:before {color: black;}#sk-container-id-2 div.sk-estimator:hover label.sk-toggleable__label-arrow:before {color: black;}#sk-container-id-2 div.sk-toggleable__content {max-height: 0;max-width: 0;overflow: hidden;text-align: left;background-color: #f0f8ff;}#sk-container-id-2 div.sk-toggleable__content pre {margin: 0.2em;color: black;border-radius: 0.25em;background-color: #f0f8ff;}#sk-container-id-2 input.sk-toggleable__control:checked~div.sk-toggleable__content {max-height: 200px;max-width: 100%;overflow: auto;}#sk-container-id-2 input.sk-toggleable__control:checked~label.sk-toggleable__label-arrow:before {content: \"▾\";}#sk-container-id-2 div.sk-estimator input.sk-toggleable__control:checked~label.sk-toggleable__label {background-color: #d4ebff;}#sk-container-id-2 div.sk-label input.sk-toggleable__control:checked~label.sk-toggleable__label {background-color: #d4ebff;}#sk-container-id-2 input.sk-hidden--visually {border: 0;clip: rect(1px 1px 1px 1px);clip: rect(1px, 1px, 1px, 1px);height: 1px;margin: -1px;overflow: hidden;padding: 0;position: absolute;width: 1px;}#sk-container-id-2 div.sk-estimator {font-family: monospace;background-color: #f0f8ff;border: 1px dotted black;border-radius: 0.25em;box-sizing: border-box;margin-bottom: 0.5em;}#sk-container-id-2 div.sk-estimator:hover {background-color: #d4ebff;}#sk-container-id-2 div.sk-parallel-item::after {content: \"\";width: 100%;border-bottom: 1px solid gray;flex-grow: 1;}#sk-container-id-2 div.sk-label:hover label.sk-toggleable__label {background-color: #d4ebff;}#sk-container-id-2 div.sk-serial::before {content: \"\";position: absolute;border-left: 1px solid gray;box-sizing: border-box;top: 0;bottom: 0;left: 50%;z-index: 0;}#sk-container-id-2 div.sk-serial {display: flex;flex-direction: column;align-items: center;background-color: white;padding-right: 0.2em;padding-left: 0.2em;position: relative;}#sk-container-id-2 div.sk-item {position: relative;z-index: 1;}#sk-container-id-2 div.sk-parallel {display: flex;align-items: stretch;justify-content: center;background-color: white;position: relative;}#sk-container-id-2 div.sk-item::before, #sk-container-id-2 div.sk-parallel-item::before {content: \"\";position: absolute;border-left: 1px solid gray;box-sizing: border-box;top: 0;bottom: 0;left: 50%;z-index: -1;}#sk-container-id-2 div.sk-parallel-item {display: flex;flex-direction: column;z-index: 1;position: relative;background-color: white;}#sk-container-id-2 div.sk-parallel-item:first-child::after {align-self: flex-end;width: 50%;}#sk-container-id-2 div.sk-parallel-item:last-child::after {align-self: flex-start;width: 50%;}#sk-container-id-2 div.sk-parallel-item:only-child::after {width: 0;}#sk-container-id-2 div.sk-dashed-wrapped {border: 1px dashed gray;margin: 0 0.4em 0.5em 0.4em;box-sizing: border-box;padding-bottom: 0.4em;background-color: white;}#sk-container-id-2 div.sk-label label {font-family: monospace;font-weight: bold;display: inline-block;line-height: 1.2em;}#sk-container-id-2 div.sk-label-container {text-align: center;}#sk-container-id-2 div.sk-container {/* jupyter's `normalize.less` sets `[hidden] { display: none; }` but bootstrap.min.css set `[hidden] { display: none !important; }` so we also need the `!important` here to be able to override the default hidden behavior on the sphinx rendered scikit-learn.org. See: https://github.com/scikit-learn/scikit-learn/issues/21755 */display: inline-block !important;position: relative;}#sk-container-id-2 div.sk-text-repr-fallback {display: none;}</style><div id=\"sk-container-id-2\" class=\"sk-top-container\"><div class=\"sk-text-repr-fallback\"><pre>GridSearchCV(cv=5,\n",
       "             estimator=Pipeline(steps=[(&#x27;simpleimputer&#x27;, SimpleImputer()),\n",
       "                                       (&#x27;randomforestclassifier&#x27;,\n",
       "                                        RandomForestClassifier(random_state=42))]),\n",
       "             n_jobs=-1,\n",
       "             param_grid={&#x27;randomforestclassifier__max_depth&#x27;: range(10, 50, 10),\n",
       "                         &#x27;randomforestclassifier__n_estimators&#x27;: range(25, 100, 25),\n",
       "                         &#x27;simpleimputer__strategy&#x27;: [&#x27;mean&#x27;, &#x27;median&#x27;]},\n",
       "             verbose=1)</pre><b>In a Jupyter environment, please rerun this cell to show the HTML representation or trust the notebook. <br />On GitHub, the HTML representation is unable to render, please try loading this page with nbviewer.org.</b></div><div class=\"sk-container\" hidden><div class=\"sk-item sk-dashed-wrapped\"><div class=\"sk-label-container\"><div class=\"sk-label sk-toggleable\"><input class=\"sk-toggleable__control sk-hidden--visually\" id=\"sk-estimator-id-4\" type=\"checkbox\" ><label for=\"sk-estimator-id-4\" class=\"sk-toggleable__label sk-toggleable__label-arrow\">GridSearchCV</label><div class=\"sk-toggleable__content\"><pre>GridSearchCV(cv=5,\n",
       "             estimator=Pipeline(steps=[(&#x27;simpleimputer&#x27;, SimpleImputer()),\n",
       "                                       (&#x27;randomforestclassifier&#x27;,\n",
       "                                        RandomForestClassifier(random_state=42))]),\n",
       "             n_jobs=-1,\n",
       "             param_grid={&#x27;randomforestclassifier__max_depth&#x27;: range(10, 50, 10),\n",
       "                         &#x27;randomforestclassifier__n_estimators&#x27;: range(25, 100, 25),\n",
       "                         &#x27;simpleimputer__strategy&#x27;: [&#x27;mean&#x27;, &#x27;median&#x27;]},\n",
       "             verbose=1)</pre></div></div></div><div class=\"sk-parallel\"><div class=\"sk-parallel-item\"><div class=\"sk-item\"><div class=\"sk-label-container\"><div class=\"sk-label sk-toggleable\"><input class=\"sk-toggleable__control sk-hidden--visually\" id=\"sk-estimator-id-5\" type=\"checkbox\" ><label for=\"sk-estimator-id-5\" class=\"sk-toggleable__label sk-toggleable__label-arrow\">estimator: Pipeline</label><div class=\"sk-toggleable__content\"><pre>Pipeline(steps=[(&#x27;simpleimputer&#x27;, SimpleImputer()),\n",
       "                (&#x27;randomforestclassifier&#x27;,\n",
       "                 RandomForestClassifier(random_state=42))])</pre></div></div></div><div class=\"sk-serial\"><div class=\"sk-item\"><div class=\"sk-serial\"><div class=\"sk-item\"><div class=\"sk-estimator sk-toggleable\"><input class=\"sk-toggleable__control sk-hidden--visually\" id=\"sk-estimator-id-6\" type=\"checkbox\" ><label for=\"sk-estimator-id-6\" class=\"sk-toggleable__label sk-toggleable__label-arrow\">SimpleImputer</label><div class=\"sk-toggleable__content\"><pre>SimpleImputer()</pre></div></div></div><div class=\"sk-item\"><div class=\"sk-estimator sk-toggleable\"><input class=\"sk-toggleable__control sk-hidden--visually\" id=\"sk-estimator-id-7\" type=\"checkbox\" ><label for=\"sk-estimator-id-7\" class=\"sk-toggleable__label sk-toggleable__label-arrow\">RandomForestClassifier</label><div class=\"sk-toggleable__content\"><pre>RandomForestClassifier(random_state=42)</pre></div></div></div></div></div></div></div></div></div></div></div></div>"
      ],
      "text/plain": [
       "GridSearchCV(cv=5,\n",
       "             estimator=Pipeline(steps=[('simpleimputer', SimpleImputer()),\n",
       "                                       ('randomforestclassifier',\n",
       "                                        RandomForestClassifier(random_state=42))]),\n",
       "             n_jobs=-1,\n",
       "             param_grid={'randomforestclassifier__max_depth': range(10, 50, 10),\n",
       "                         'randomforestclassifier__n_estimators': range(25, 100, 25),\n",
       "                         'simpleimputer__strategy': ['mean', 'median']},\n",
       "             verbose=1)"
      ]
     },
     "execution_count": 27,
     "metadata": {},
     "output_type": "execute_result"
    }
   ],
   "source": [
    "model = GridSearchCV(\n",
    "    clf,\n",
    "    param_grid=params,\n",
    "    cv=5,\n",
    "    n_jobs=-1,\n",
    "    verbose=1\n",
    ")\n",
    "model"
   ]
  },
  {
   "cell_type": "code",
   "execution_count": 28,
   "id": "e4346eac",
   "metadata": {
    "execution": {
     "iopub.execute_input": "2023-10-07T10:22:02.791442Z",
     "iopub.status.busy": "2023-10-07T10:22:02.791045Z",
     "iopub.status.idle": "2023-10-07T10:37:32.847915Z",
     "shell.execute_reply": "2023-10-07T10:37:32.846616Z"
    },
    "papermill": {
     "duration": 930.087216,
     "end_time": "2023-10-07T10:37:32.863700",
     "exception": false,
     "start_time": "2023-10-07T10:22:02.776484",
     "status": "completed"
    },
    "tags": []
   },
   "outputs": [
    {
     "name": "stdout",
     "output_type": "stream",
     "text": [
      "Fitting 5 folds for each of 24 candidates, totalling 120 fits\n"
     ]
    },
    {
     "data": {
      "text/html": [
       "<style>#sk-container-id-3 {color: black;background-color: white;}#sk-container-id-3 pre{padding: 0;}#sk-container-id-3 div.sk-toggleable {background-color: white;}#sk-container-id-3 label.sk-toggleable__label {cursor: pointer;display: block;width: 100%;margin-bottom: 0;padding: 0.3em;box-sizing: border-box;text-align: center;}#sk-container-id-3 label.sk-toggleable__label-arrow:before {content: \"▸\";float: left;margin-right: 0.25em;color: #696969;}#sk-container-id-3 label.sk-toggleable__label-arrow:hover:before {color: black;}#sk-container-id-3 div.sk-estimator:hover label.sk-toggleable__label-arrow:before {color: black;}#sk-container-id-3 div.sk-toggleable__content {max-height: 0;max-width: 0;overflow: hidden;text-align: left;background-color: #f0f8ff;}#sk-container-id-3 div.sk-toggleable__content pre {margin: 0.2em;color: black;border-radius: 0.25em;background-color: #f0f8ff;}#sk-container-id-3 input.sk-toggleable__control:checked~div.sk-toggleable__content {max-height: 200px;max-width: 100%;overflow: auto;}#sk-container-id-3 input.sk-toggleable__control:checked~label.sk-toggleable__label-arrow:before {content: \"▾\";}#sk-container-id-3 div.sk-estimator input.sk-toggleable__control:checked~label.sk-toggleable__label {background-color: #d4ebff;}#sk-container-id-3 div.sk-label input.sk-toggleable__control:checked~label.sk-toggleable__label {background-color: #d4ebff;}#sk-container-id-3 input.sk-hidden--visually {border: 0;clip: rect(1px 1px 1px 1px);clip: rect(1px, 1px, 1px, 1px);height: 1px;margin: -1px;overflow: hidden;padding: 0;position: absolute;width: 1px;}#sk-container-id-3 div.sk-estimator {font-family: monospace;background-color: #f0f8ff;border: 1px dotted black;border-radius: 0.25em;box-sizing: border-box;margin-bottom: 0.5em;}#sk-container-id-3 div.sk-estimator:hover {background-color: #d4ebff;}#sk-container-id-3 div.sk-parallel-item::after {content: \"\";width: 100%;border-bottom: 1px solid gray;flex-grow: 1;}#sk-container-id-3 div.sk-label:hover label.sk-toggleable__label {background-color: #d4ebff;}#sk-container-id-3 div.sk-serial::before {content: \"\";position: absolute;border-left: 1px solid gray;box-sizing: border-box;top: 0;bottom: 0;left: 50%;z-index: 0;}#sk-container-id-3 div.sk-serial {display: flex;flex-direction: column;align-items: center;background-color: white;padding-right: 0.2em;padding-left: 0.2em;position: relative;}#sk-container-id-3 div.sk-item {position: relative;z-index: 1;}#sk-container-id-3 div.sk-parallel {display: flex;align-items: stretch;justify-content: center;background-color: white;position: relative;}#sk-container-id-3 div.sk-item::before, #sk-container-id-3 div.sk-parallel-item::before {content: \"\";position: absolute;border-left: 1px solid gray;box-sizing: border-box;top: 0;bottom: 0;left: 50%;z-index: -1;}#sk-container-id-3 div.sk-parallel-item {display: flex;flex-direction: column;z-index: 1;position: relative;background-color: white;}#sk-container-id-3 div.sk-parallel-item:first-child::after {align-self: flex-end;width: 50%;}#sk-container-id-3 div.sk-parallel-item:last-child::after {align-self: flex-start;width: 50%;}#sk-container-id-3 div.sk-parallel-item:only-child::after {width: 0;}#sk-container-id-3 div.sk-dashed-wrapped {border: 1px dashed gray;margin: 0 0.4em 0.5em 0.4em;box-sizing: border-box;padding-bottom: 0.4em;background-color: white;}#sk-container-id-3 div.sk-label label {font-family: monospace;font-weight: bold;display: inline-block;line-height: 1.2em;}#sk-container-id-3 div.sk-label-container {text-align: center;}#sk-container-id-3 div.sk-container {/* jupyter's `normalize.less` sets `[hidden] { display: none; }` but bootstrap.min.css set `[hidden] { display: none !important; }` so we also need the `!important` here to be able to override the default hidden behavior on the sphinx rendered scikit-learn.org. See: https://github.com/scikit-learn/scikit-learn/issues/21755 */display: inline-block !important;position: relative;}#sk-container-id-3 div.sk-text-repr-fallback {display: none;}</style><div id=\"sk-container-id-3\" class=\"sk-top-container\"><div class=\"sk-text-repr-fallback\"><pre>GridSearchCV(cv=5,\n",
       "             estimator=Pipeline(steps=[(&#x27;simpleimputer&#x27;, SimpleImputer()),\n",
       "                                       (&#x27;randomforestclassifier&#x27;,\n",
       "                                        RandomForestClassifier(random_state=42))]),\n",
       "             n_jobs=-1,\n",
       "             param_grid={&#x27;randomforestclassifier__max_depth&#x27;: range(10, 50, 10),\n",
       "                         &#x27;randomforestclassifier__n_estimators&#x27;: range(25, 100, 25),\n",
       "                         &#x27;simpleimputer__strategy&#x27;: [&#x27;mean&#x27;, &#x27;median&#x27;]},\n",
       "             verbose=1)</pre><b>In a Jupyter environment, please rerun this cell to show the HTML representation or trust the notebook. <br />On GitHub, the HTML representation is unable to render, please try loading this page with nbviewer.org.</b></div><div class=\"sk-container\" hidden><div class=\"sk-item sk-dashed-wrapped\"><div class=\"sk-label-container\"><div class=\"sk-label sk-toggleable\"><input class=\"sk-toggleable__control sk-hidden--visually\" id=\"sk-estimator-id-8\" type=\"checkbox\" ><label for=\"sk-estimator-id-8\" class=\"sk-toggleable__label sk-toggleable__label-arrow\">GridSearchCV</label><div class=\"sk-toggleable__content\"><pre>GridSearchCV(cv=5,\n",
       "             estimator=Pipeline(steps=[(&#x27;simpleimputer&#x27;, SimpleImputer()),\n",
       "                                       (&#x27;randomforestclassifier&#x27;,\n",
       "                                        RandomForestClassifier(random_state=42))]),\n",
       "             n_jobs=-1,\n",
       "             param_grid={&#x27;randomforestclassifier__max_depth&#x27;: range(10, 50, 10),\n",
       "                         &#x27;randomforestclassifier__n_estimators&#x27;: range(25, 100, 25),\n",
       "                         &#x27;simpleimputer__strategy&#x27;: [&#x27;mean&#x27;, &#x27;median&#x27;]},\n",
       "             verbose=1)</pre></div></div></div><div class=\"sk-parallel\"><div class=\"sk-parallel-item\"><div class=\"sk-item\"><div class=\"sk-label-container\"><div class=\"sk-label sk-toggleable\"><input class=\"sk-toggleable__control sk-hidden--visually\" id=\"sk-estimator-id-9\" type=\"checkbox\" ><label for=\"sk-estimator-id-9\" class=\"sk-toggleable__label sk-toggleable__label-arrow\">estimator: Pipeline</label><div class=\"sk-toggleable__content\"><pre>Pipeline(steps=[(&#x27;simpleimputer&#x27;, SimpleImputer()),\n",
       "                (&#x27;randomforestclassifier&#x27;,\n",
       "                 RandomForestClassifier(random_state=42))])</pre></div></div></div><div class=\"sk-serial\"><div class=\"sk-item\"><div class=\"sk-serial\"><div class=\"sk-item\"><div class=\"sk-estimator sk-toggleable\"><input class=\"sk-toggleable__control sk-hidden--visually\" id=\"sk-estimator-id-10\" type=\"checkbox\" ><label for=\"sk-estimator-id-10\" class=\"sk-toggleable__label sk-toggleable__label-arrow\">SimpleImputer</label><div class=\"sk-toggleable__content\"><pre>SimpleImputer()</pre></div></div></div><div class=\"sk-item\"><div class=\"sk-estimator sk-toggleable\"><input class=\"sk-toggleable__control sk-hidden--visually\" id=\"sk-estimator-id-11\" type=\"checkbox\" ><label for=\"sk-estimator-id-11\" class=\"sk-toggleable__label sk-toggleable__label-arrow\">RandomForestClassifier</label><div class=\"sk-toggleable__content\"><pre>RandomForestClassifier(random_state=42)</pre></div></div></div></div></div></div></div></div></div></div></div></div>"
      ],
      "text/plain": [
       "GridSearchCV(cv=5,\n",
       "             estimator=Pipeline(steps=[('simpleimputer', SimpleImputer()),\n",
       "                                       ('randomforestclassifier',\n",
       "                                        RandomForestClassifier(random_state=42))]),\n",
       "             n_jobs=-1,\n",
       "             param_grid={'randomforestclassifier__max_depth': range(10, 50, 10),\n",
       "                         'randomforestclassifier__n_estimators': range(25, 100, 25),\n",
       "                         'simpleimputer__strategy': ['mean', 'median']},\n",
       "             verbose=1)"
      ]
     },
     "execution_count": 28,
     "metadata": {},
     "output_type": "execute_result"
    }
   ],
   "source": [
    "model.fit(X_train_over, y_train_over)"
   ]
  },
  {
   "cell_type": "code",
   "execution_count": 29,
   "id": "2f6a3fe4",
   "metadata": {
    "execution": {
     "iopub.execute_input": "2023-10-07T10:37:32.892807Z",
     "iopub.status.busy": "2023-10-07T10:37:32.892441Z",
     "iopub.status.idle": "2023-10-07T10:37:32.899221Z",
     "shell.execute_reply": "2023-10-07T10:37:32.898198Z"
    },
    "papermill": {
     "duration": 0.024324,
     "end_time": "2023-10-07T10:37:32.901258",
     "exception": false,
     "start_time": "2023-10-07T10:37:32.876934",
     "status": "completed"
    },
    "tags": []
   },
   "outputs": [
    {
     "data": {
      "text/plain": [
       "{'randomforestclassifier__max_depth': 40,\n",
       " 'randomforestclassifier__n_estimators': 75,\n",
       " 'simpleimputer__strategy': 'mean'}"
      ]
     },
     "execution_count": 29,
     "metadata": {},
     "output_type": "execute_result"
    }
   ],
   "source": [
    "model.best_params_"
   ]
  },
  {
   "cell_type": "code",
   "execution_count": 30,
   "id": "9d531aba",
   "metadata": {
    "execution": {
     "iopub.execute_input": "2023-10-07T10:37:32.930130Z",
     "iopub.status.busy": "2023-10-07T10:37:32.929782Z",
     "iopub.status.idle": "2023-10-07T10:37:35.567836Z",
     "shell.execute_reply": "2023-10-07T10:37:35.566431Z"
    },
    "papermill": {
     "duration": 2.65527,
     "end_time": "2023-10-07T10:37:35.570164",
     "exception": false,
     "start_time": "2023-10-07T10:37:32.914894",
     "status": "completed"
    },
    "tags": []
   },
   "outputs": [
    {
     "name": "stdout",
     "output_type": "stream",
     "text": [
      "Training Accuracy: 1.0\n",
      "Test Accuracy: 0.9388\n"
     ]
    }
   ],
   "source": [
    "acc_train = model.score(X_train_over, y_train_over)\n",
    "acc_test = model.score(X_test, y_test)\n",
    "\n",
    "print(\"Training Accuracy:\", round(acc_train, 4))\n",
    "print(\"Test Accuracy:\", round(acc_test, 4))"
   ]
  },
  {
   "cell_type": "code",
   "execution_count": 31,
   "id": "add4a35e",
   "metadata": {
    "execution": {
     "iopub.execute_input": "2023-10-07T10:37:35.598836Z",
     "iopub.status.busy": "2023-10-07T10:37:35.598505Z",
     "iopub.status.idle": "2023-10-07T10:37:36.248423Z",
     "shell.execute_reply": "2023-10-07T10:37:36.247387Z"
    },
    "papermill": {
     "duration": 0.666824,
     "end_time": "2023-10-07T10:37:36.250542",
     "exception": false,
     "start_time": "2023-10-07T10:37:35.583718",
     "status": "completed"
    },
    "tags": []
   },
   "outputs": [
    {
     "data": {
      "image/png": "[encoded data removed]",
      "text/plain": [
       "<Figure size 640x480 with 2 Axes>"
      ]
     },
     "metadata": {},
     "output_type": "display_data"
    }
   ],
   "source": [
    "ConfusionMatrixDisplay.from_estimator(model, X_test, y_test);"
   ]
  },
  {
   "cell_type": "code",
   "execution_count": 32,
   "id": "db152b14",
   "metadata": {
    "execution": {
     "iopub.execute_input": "2023-10-07T10:37:36.281711Z",
     "iopub.status.busy": "2023-10-07T10:37:36.281150Z",
     "iopub.status.idle": "2023-10-07T10:37:36.579875Z",
     "shell.execute_reply": "2023-10-07T10:37:36.578825Z"
    },
    "papermill": {
     "duration": 0.317099,
     "end_time": "2023-10-07T10:37:36.581920",
     "exception": false,
     "start_time": "2023-10-07T10:37:36.264821",
     "status": "completed"
    },
    "tags": []
   },
   "outputs": [
    {
     "data": {
      "image/png": "[encoded data removed]",
      "text/plain": [
       "<Figure size 640x480 with 1 Axes>"
      ]
     },
     "metadata": {},
     "output_type": "display_data"
    }
   ],
   "source": [
    "features = X_train_over.columns\n",
    "\n",
    "# Extract importances from model\n",
    "importances = model.best_estimator_.named_steps['randomforestclassifier'].feature_importances_\n",
    "\n",
    "# Create a series with feature names and importances\n",
    "feat_imp = pd.Series(importances, index=features).sort_values()\n",
    "\n",
    "# Plot 10 most important features\n",
    "feat_imp.tail(10).plot(kind='barh')\n",
    "plt.xlabel(\"Gini Importance\")\n",
    "plt.ylabel(\"Feature\")\n",
    "plt.title(\"Feature Importance\");"
   ]
  },
  {
   "cell_type": "code",
   "execution_count": 33,
   "id": "9c2c5bdb",
   "metadata": {
    "execution": {
     "iopub.execute_input": "2023-10-07T10:37:36.612443Z",
     "iopub.status.busy": "2023-10-07T10:37:36.612039Z",
     "iopub.status.idle": "2023-10-07T10:37:36.616812Z",
     "shell.execute_reply": "2023-10-07T10:37:36.615799Z"
    },
    "papermill": {
     "duration": 0.022256,
     "end_time": "2023-10-07T10:37:36.618630",
     "exception": false,
     "start_time": "2023-10-07T10:37:36.596374",
     "status": "completed"
    },
    "tags": []
   },
   "outputs": [],
   "source": [
    "gbclf = make_pipeline(SimpleImputer(), GradientBoostingClassifier())"
   ]
  },
  {
   "cell_type": "code",
   "execution_count": 34,
   "id": "19cdd5d4",
   "metadata": {
    "execution": {
     "iopub.execute_input": "2023-10-07T10:37:36.650537Z",
     "iopub.status.busy": "2023-10-07T10:37:36.650135Z",
     "iopub.status.idle": "2023-10-07T10:37:36.657466Z",
     "shell.execute_reply": "2023-10-07T10:37:36.656435Z"
    },
    "papermill": {
     "duration": 0.025698,
     "end_time": "2023-10-07T10:37:36.659568",
     "exception": false,
     "start_time": "2023-10-07T10:37:36.633870",
     "status": "completed"
    },
    "tags": []
   },
   "outputs": [
    {
     "data": {
      "text/plain": [
       "{'simpleimputer__strategy': ['mean', 'median'],\n",
       " 'gradientboostingclassifier__n_estimators': range(20, 31, 5),\n",
       " 'gradientboostingclassifier__max_depth': range(2, 5)}"
      ]
     },
     "execution_count": 34,
     "metadata": {},
     "output_type": "execute_result"
    }
   ],
   "source": [
    "params_gb = {\n",
    "    \"simpleimputer__strategy\": ['mean', 'median'],\n",
    "    'gradientboostingclassifier__n_estimators': range(20,31,5),\n",
    "    'gradientboostingclassifier__max_depth': range(2,5)\n",
    "}\n",
    "params_gb"
   ]
  },
  {
   "cell_type": "code",
   "execution_count": 35,
   "id": "530a6614",
   "metadata": {
    "execution": {
     "iopub.execute_input": "2023-10-07T10:37:36.690757Z",
     "iopub.status.busy": "2023-10-07T10:37:36.689995Z",
     "iopub.status.idle": "2023-10-07T10:37:36.695421Z",
     "shell.execute_reply": "2023-10-07T10:37:36.694151Z"
    },
    "papermill": {
     "duration": 0.023321,
     "end_time": "2023-10-07T10:37:36.697689",
     "exception": false,
     "start_time": "2023-10-07T10:37:36.674368",
     "status": "completed"
    },
    "tags": []
   },
   "outputs": [],
   "source": [
    "model_gb = GridSearchCV(gbclf, param_grid=params_gb, cv=5, n_jobs=-1, verbose=1)"
   ]
  },
  {
   "cell_type": "code",
   "execution_count": 36,
   "id": "a625e71d",
   "metadata": {
    "execution": {
     "iopub.execute_input": "2023-10-07T10:37:36.729961Z",
     "iopub.status.busy": "2023-10-07T10:37:36.728932Z",
     "iopub.status.idle": "2023-10-07T10:47:12.729382Z",
     "shell.execute_reply": "2023-10-07T10:47:12.728297Z"
    },
    "papermill": {
     "duration": 576.033484,
     "end_time": "2023-10-07T10:47:12.746469",
     "exception": false,
     "start_time": "2023-10-07T10:37:36.712985",
     "status": "completed"
    },
    "tags": []
   },
   "outputs": [
    {
     "name": "stdout",
     "output_type": "stream",
     "text": [
      "Fitting 5 folds for each of 18 candidates, totalling 90 fits\n"
     ]
    },
    {
     "data": {
      "text/html": [
       "<style>#sk-container-id-4 {color: black;background-color: white;}#sk-container-id-4 pre{padding: 0;}#sk-container-id-4 div.sk-toggleable {background-color: white;}#sk-container-id-4 label.sk-toggleable__label {cursor: pointer;display: block;width: 100%;margin-bottom: 0;padding: 0.3em;box-sizing: border-box;text-align: center;}#sk-container-id-4 label.sk-toggleable__label-arrow:before {content: \"▸\";float: left;margin-right: 0.25em;color: #696969;}#sk-container-id-4 label.sk-toggleable__label-arrow:hover:before {color: black;}#sk-container-id-4 div.sk-estimator:hover label.sk-toggleable__label-arrow:before {color: black;}#sk-container-id-4 div.sk-toggleable__content {max-height: 0;max-width: 0;overflow: hidden;text-align: left;background-color: #f0f8ff;}#sk-container-id-4 div.sk-toggleable__content pre {margin: 0.2em;color: black;border-radius: 0.25em;background-color: #f0f8ff;}#sk-container-id-4 input.sk-toggleable__control:checked~div.sk-toggleable__content {max-height: 200px;max-width: 100%;overflow: auto;}#sk-container-id-4 input.sk-toggleable__control:checked~label.sk-toggleable__label-arrow:before {content: \"▾\";}#sk-container-id-4 div.sk-estimator input.sk-toggleable__control:checked~label.sk-toggleable__label {background-color: #d4ebff;}#sk-container-id-4 div.sk-label input.sk-toggleable__control:checked~label.sk-toggleable__label {background-color: #d4ebff;}#sk-container-id-4 input.sk-hidden--visually {border: 0;clip: rect(1px 1px 1px 1px);clip: rect(1px, 1px, 1px, 1px);height: 1px;margin: -1px;overflow: hidden;padding: 0;position: absolute;width: 1px;}#sk-container-id-4 div.sk-estimator {font-family: monospace;background-color: #f0f8ff;border: 1px dotted black;border-radius: 0.25em;box-sizing: border-box;margin-bottom: 0.5em;}#sk-container-id-4 div.sk-estimator:hover {background-color: #d4ebff;}#sk-container-id-4 div.sk-parallel-item::after {content: \"\";width: 100%;border-bottom: 1px solid gray;flex-grow: 1;}#sk-container-id-4 div.sk-label:hover label.sk-toggleable__label {background-color: #d4ebff;}#sk-container-id-4 div.sk-serial::before {content: \"\";position: absolute;border-left: 1px solid gray;box-sizing: border-box;top: 0;bottom: 0;left: 50%;z-index: 0;}#sk-container-id-4 div.sk-serial {display: flex;flex-direction: column;align-items: center;background-color: white;padding-right: 0.2em;padding-left: 0.2em;position: relative;}#sk-container-id-4 div.sk-item {position: relative;z-index: 1;}#sk-container-id-4 div.sk-parallel {display: flex;align-items: stretch;justify-content: center;background-color: white;position: relative;}#sk-container-id-4 div.sk-item::before, #sk-container-id-4 div.sk-parallel-item::before {content: \"\";position: absolute;border-left: 1px solid gray;box-sizing: border-box;top: 0;bottom: 0;left: 50%;z-index: -1;}#sk-container-id-4 div.sk-parallel-item {display: flex;flex-direction: column;z-index: 1;position: relative;background-color: white;}#sk-container-id-4 div.sk-parallel-item:first-child::after {align-self: flex-end;width: 50%;}#sk-container-id-4 div.sk-parallel-item:last-child::after {align-self: flex-start;width: 50%;}#sk-container-id-4 div.sk-parallel-item:only-child::after {width: 0;}#sk-container-id-4 div.sk-dashed-wrapped {border: 1px dashed gray;margin: 0 0.4em 0.5em 0.4em;box-sizing: border-box;padding-bottom: 0.4em;background-color: white;}#sk-container-id-4 div.sk-label label {font-family: monospace;font-weight: bold;display: inline-block;line-height: 1.2em;}#sk-container-id-4 div.sk-label-container {text-align: center;}#sk-container-id-4 div.sk-container {/* jupyter's `normalize.less` sets `[hidden] { display: none; }` but bootstrap.min.css set `[hidden] { display: none !important; }` so we also need the `!important` here to be able to override the default hidden behavior on the sphinx rendered scikit-learn.org. See: https://github.com/scikit-learn/scikit-learn/issues/21755 */display: inline-block !important;position: relative;}#sk-container-id-4 div.sk-text-repr-fallback {display: none;}</style><div id=\"sk-container-id-4\" class=\"sk-top-container\"><div class=\"sk-text-repr-fallback\"><pre>GridSearchCV(cv=5,\n",
       "             estimator=Pipeline(steps=[(&#x27;simpleimputer&#x27;, SimpleImputer()),\n",
       "                                       (&#x27;gradientboostingclassifier&#x27;,\n",
       "                                        GradientBoostingClassifier())]),\n",
       "             n_jobs=-1,\n",
       "             param_grid={&#x27;gradientboostingclassifier__max_depth&#x27;: range(2, 5),\n",
       "                         &#x27;gradientboostingclassifier__n_estimators&#x27;: range(20, 31, 5),\n",
       "                         &#x27;simpleimputer__strategy&#x27;: [&#x27;mean&#x27;, &#x27;median&#x27;]},\n",
       "             verbose=1)</pre><b>In a Jupyter environment, please rerun this cell to show the HTML representation or trust the notebook. <br />On GitHub, the HTML representation is unable to render, please try loading this page with nbviewer.org.</b></div><div class=\"sk-container\" hidden><div class=\"sk-item sk-dashed-wrapped\"><div class=\"sk-label-container\"><div class=\"sk-label sk-toggleable\"><input class=\"sk-toggleable__control sk-hidden--visually\" id=\"sk-estimator-id-12\" type=\"checkbox\" ><label for=\"sk-estimator-id-12\" class=\"sk-toggleable__label sk-toggleable__label-arrow\">GridSearchCV</label><div class=\"sk-toggleable__content\"><pre>GridSearchCV(cv=5,\n",
       "             estimator=Pipeline(steps=[(&#x27;simpleimputer&#x27;, SimpleImputer()),\n",
       "                                       (&#x27;gradientboostingclassifier&#x27;,\n",
       "                                        GradientBoostingClassifier())]),\n",
       "             n_jobs=-1,\n",
       "             param_grid={&#x27;gradientboostingclassifier__max_depth&#x27;: range(2, 5),\n",
       "                         &#x27;gradientboostingclassifier__n_estimators&#x27;: range(20, 31, 5),\n",
       "                         &#x27;simpleimputer__strategy&#x27;: [&#x27;mean&#x27;, &#x27;median&#x27;]},\n",
       "             verbose=1)</pre></div></div></div><div class=\"sk-parallel\"><div class=\"sk-parallel-item\"><div class=\"sk-item\"><div class=\"sk-label-container\"><div class=\"sk-label sk-toggleable\"><input class=\"sk-toggleable__control sk-hidden--visually\" id=\"sk-estimator-id-13\" type=\"checkbox\" ><label for=\"sk-estimator-id-13\" class=\"sk-toggleable__label sk-toggleable__label-arrow\">estimator: Pipeline</label><div class=\"sk-toggleable__content\"><pre>Pipeline(steps=[(&#x27;simpleimputer&#x27;, SimpleImputer()),\n",
       "                (&#x27;gradientboostingclassifier&#x27;, GradientBoostingClassifier())])</pre></div></div></div><div class=\"sk-serial\"><div class=\"sk-item\"><div class=\"sk-serial\"><div class=\"sk-item\"><div class=\"sk-estimator sk-toggleable\"><input class=\"sk-toggleable__control sk-hidden--visually\" id=\"sk-estimator-id-14\" type=\"checkbox\" ><label for=\"sk-estimator-id-14\" class=\"sk-toggleable__label sk-toggleable__label-arrow\">SimpleImputer</label><div class=\"sk-toggleable__content\"><pre>SimpleImputer()</pre></div></div></div><div class=\"sk-item\"><div class=\"sk-estimator sk-toggleable\"><input class=\"sk-toggleable__control sk-hidden--visually\" id=\"sk-estimator-id-15\" type=\"checkbox\" ><label for=\"sk-estimator-id-15\" class=\"sk-toggleable__label sk-toggleable__label-arrow\">GradientBoostingClassifier</label><div class=\"sk-toggleable__content\"><pre>GradientBoostingClassifier()</pre></div></div></div></div></div></div></div></div></div></div></div></div>"
      ],
      "text/plain": [
       "GridSearchCV(cv=5,\n",
       "             estimator=Pipeline(steps=[('simpleimputer', SimpleImputer()),\n",
       "                                       ('gradientboostingclassifier',\n",
       "                                        GradientBoostingClassifier())]),\n",
       "             n_jobs=-1,\n",
       "             param_grid={'gradientboostingclassifier__max_depth': range(2, 5),\n",
       "                         'gradientboostingclassifier__n_estimators': range(20, 31, 5),\n",
       "                         'simpleimputer__strategy': ['mean', 'median']},\n",
       "             verbose=1)"
      ]
     },
     "execution_count": 36,
     "metadata": {},
     "output_type": "execute_result"
    }
   ],
   "source": [
    "model_gb.fit(X_train_over,y_train_over)"
   ]
  },
  {
   "cell_type": "code",
   "execution_count": 37,
   "id": "e087dd3c",
   "metadata": {
    "execution": {
     "iopub.execute_input": "2023-10-07T10:47:12.778011Z",
     "iopub.status.busy": "2023-10-07T10:47:12.777671Z",
     "iopub.status.idle": "2023-10-07T10:47:12.783735Z",
     "shell.execute_reply": "2023-10-07T10:47:12.782680Z"
    },
    "papermill": {
     "duration": 0.02428,
     "end_time": "2023-10-07T10:47:12.785810",
     "exception": false,
     "start_time": "2023-10-07T10:47:12.761530",
     "status": "completed"
    },
    "tags": []
   },
   "outputs": [
    {
     "data": {
      "text/plain": [
       "{'gradientboostingclassifier__max_depth': 4,\n",
       " 'gradientboostingclassifier__n_estimators': 30,\n",
       " 'simpleimputer__strategy': 'mean'}"
      ]
     },
     "execution_count": 37,
     "metadata": {},
     "output_type": "execute_result"
    }
   ],
   "source": [
    "model_gb.best_params_"
   ]
  },
  {
   "cell_type": "code",
   "execution_count": 38,
   "id": "a74cba79",
   "metadata": {
    "execution": {
     "iopub.execute_input": "2023-10-07T10:47:12.817424Z",
     "iopub.status.busy": "2023-10-07T10:47:12.817061Z",
     "iopub.status.idle": "2023-10-07T10:47:13.349136Z",
     "shell.execute_reply": "2023-10-07T10:47:13.348017Z"
    },
    "papermill": {
     "duration": 0.550203,
     "end_time": "2023-10-07T10:47:13.351097",
     "exception": false,
     "start_time": "2023-10-07T10:47:12.800894",
     "status": "completed"
    },
    "tags": []
   },
   "outputs": [
    {
     "name": "stdout",
     "output_type": "stream",
     "text": [
      "Training Accuracy: 0.7009\n",
      "Test Accuracy: 0.6752\n"
     ]
    }
   ],
   "source": [
    "acc_train = model_gb.score(X_train_over, y_train_over)\n",
    "acc_test = model_gb.score(X_test, y_test)\n",
    "\n",
    "print(\"Training Accuracy:\", round(acc_train, 4))\n",
    "print(\"Test Accuracy:\", round(acc_test, 4))"
   ]
  },
  {
   "cell_type": "code",
   "execution_count": 39,
   "id": "4c9d9c60",
   "metadata": {
    "execution": {
     "iopub.execute_input": "2023-10-07T10:47:13.383143Z",
     "iopub.status.busy": "2023-10-07T10:47:13.382475Z",
     "iopub.status.idle": "2023-10-07T10:47:13.769866Z",
     "shell.execute_reply": "2023-10-07T10:47:13.768670Z"
    },
    "papermill": {
     "duration": 0.406541,
     "end_time": "2023-10-07T10:47:13.772714",
     "exception": false,
     "start_time": "2023-10-07T10:47:13.366173",
     "status": "completed"
    },
    "tags": []
   },
   "outputs": [
    {
     "data": {
      "image/png": "[encoded data removed]",
      "text/plain": [
       "<Figure size 640x480 with 2 Axes>"
      ]
     },
     "metadata": {},
     "output_type": "display_data"
    }
   ],
   "source": [
    "ConfusionMatrixDisplay.from_estimator(model_gb, X_test, y_test);"
   ]
  },
  {
   "cell_type": "code",
   "execution_count": 40,
   "id": "de719fe9",
   "metadata": {
    "execution": {
     "iopub.execute_input": "2023-10-07T10:47:13.811251Z",
     "iopub.status.busy": "2023-10-07T10:47:13.810609Z",
     "iopub.status.idle": "2023-10-07T10:47:14.788777Z",
     "shell.execute_reply": "2023-10-07T10:47:14.787288Z"
    },
    "papermill": {
     "duration": 1.000129,
     "end_time": "2023-10-07T10:47:14.791309",
     "exception": false,
     "start_time": "2023-10-07T10:47:13.791180",
     "status": "completed"
    },
    "tags": []
   },
   "outputs": [
    {
     "name": "stdout",
     "output_type": "stream",
     "text": [
      "              precision    recall  f1-score   support\n",
      "\n",
      "       alive       0.94      1.00      0.97     14669\n",
      "      failed       0.80      0.13      0.23      1068\n",
      "\n",
      "    accuracy                           0.94     15737\n",
      "   macro avg       0.87      0.56      0.60     15737\n",
      "weighted avg       0.93      0.94      0.92     15737\n",
      "\n"
     ]
    }
   ],
   "source": [
    "print(classification_report(y_test, model.predict(X_test)))"
   ]
  },
  {
   "cell_type": "code",
   "execution_count": null,
   "id": "bc27b886",
   "metadata": {
    "papermill": {
     "duration": 0.015443,
     "end_time": "2023-10-07T10:47:14.822101",
     "exception": false,
     "start_time": "2023-10-07T10:47:14.806658",
     "status": "completed"
    },
    "tags": []
   },
   "outputs": [],
   "source": []
  }
 ],
 "metadata": {
  "kernelspec": {
   "display_name": "Python 3",
   "language": "python",
   "name": "python3"
  },
  "language_info": {
   "codemirror_mode": {
    "name": "ipython",
    "version": 3
   },
   "file_extension": ".py",
   "mimetype": "text/x-python",
   "name": "python",
   "nbconvert_exporter": "python",
   "pygments_lexer": "ipython3",
   "version": "3.10.12"
  },
  "papermill": {
   "default_parameters": {},
   "duration": 1533.343768,
   "end_time": "2023-10-07T10:47:17.460052",
   "environment_variables": {},
   "exception": null,
   "input_path": "__notebook__.ipynb",
   "output_path": "__notebook__.ipynb",
   "parameters": {},
   "start_time": "2023-10-07T10:21:44.116284",
   "version": "2.4.0"
  }
 },
 "nbformat": 4,
 "nbformat_minor": 5
}
